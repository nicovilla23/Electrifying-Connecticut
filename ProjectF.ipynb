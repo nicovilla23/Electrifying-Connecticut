{
 "cells": [
  {
   "cell_type": "code",
   "execution_count": 1,
   "id": "24dade8f",
   "metadata": {},
   "outputs": [],
   "source": [
    "import streamlit as st\n",
    "import pandas as pd\n",
    "from PIL import Image\n",
    "import pylab as plt\n",
    "import webbrowser\n",
    "import base64\n",
    "import io\n",
    "import folium\n",
    "from folium.plugins import MarkerCluster\n",
    "from streamlit_folium import st_folium\n",
    "import plost"
   ]
  },
  {
   "cell_type": "code",
   "execution_count": 2,
   "id": "e06d878e",
   "metadata": {},
   "outputs": [],
   "source": [
    "cars = pd.read_csv('Clean_Electric_Vehicle_Population_Data.csv')\n",
    "price = pd.read_csv('Cars_Price_Clean.csv')\n",
    "stations = pd.read_csv('Clean_Charging_stations.csv')"
   ]
  },
  {
   "cell_type": "code",
   "execution_count": null,
   "id": "689413d6",
   "metadata": {},
   "outputs": [],
   "source": [
    "import streamlit as st\n",
    "import pandas as pd\n",
    "from PIL import Image\n",
    "import pylab as plt\n",
    "import webbrowser\n",
    "import base64\n",
    "import io\n",
    "import folium\n",
    "from folium.plugins import MarkerCluster\n",
    "from streamlit_folium import st_folium\n",
    "\n",
    "st.title('Electrifying Connecticut') \n",
    "\n",
    "cars = pd.read_csv('Clean_Electric_Vehicle_Population_Data.csv')\n",
    "price = pd.read_csv('Cars_Price_Clean.csv')\n",
    "stations = pd.read_csv('Clean_Charging_stations.csv')\n",
    "\n",
    "\n",
    "\n",
    "\n",
    "\n",
    "m = folium.Map(location= [ 41.730405,-72.790618 ], tiles = 'OpenStreetMap', zoom_start = 10)\n",
    "for i,row in stations.iterrows():\n",
    "    latitude = stations.at[i, 'latitude']\n",
    "    longitude = stations.at[i, 'longitude']\n",
    "    name = stations.at[i, 'station_name']\n",
    "    \n",
    "    folium.Marker(location= [longitude, latitude],popup= name,icon= folium.Icon(color= 'blue')).add_to(m)\n",
    "st_data = st_folium(m, width=725)\n",
    "\n",
    "\n",
    "\n",
    "\n",
    "\n",
    "\n",
    "CAFVs, Types, Electric_Ranges, Years, Makes = st.columns(5)\n",
    "with Makes:\n",
    "    Make= st.selectbox('Filter by Make' , cars.make.unique())\n",
    "with CAFVs:\n",
    "    CAFV = st.selectbox('Filter by CAFV', cars.cafv_eligibilaty.unique())\n",
    "with Types:\n",
    "    Type = st.selectbox('Filter by Type', cars.electric_vehicle_type.unique())\n",
    "with Years:\n",
    "    year_min, year_max = st.select_slider('Filter by Years', \n",
    "                                        options=[i for i in range(0,cars.model_year.max()+1)],\n",
    "                                        value=[0, cars.model_year.max()])\n",
    "with Electric_Ranges:\n",
    "    electric_range_min, electric_range_max = st.select_slider('Filter by Electric Range', \n",
    "                                        options=[i for i in range(0,cars.electric_range.max()+1)],\n",
    "                                        value=[0, cars.electric_range.max()])\n",
    "df1 = cars[['model_year','make', 'model', 'electric_vehicle_type', 'cafv_eligibilaty','electric_range']].sort_values(by='model_year')   \n",
    "var = df1[(df1.cafv_eligibilaty == CAFV) &\n",
    "              (df1.model_year >= year_min) &\n",
    "              (df1.model_year <= year_max) &\n",
    "              (df1.electric_vehicle_type == Type)&\n",
    "              (df1.electric_range >= electric_range_min) &\n",
    "              (df1.electric_range <= electric_range_max) &\n",
    "              (df1.make == Make)].drop_duplicates().reset_index(drop=True)\n",
    "\n",
    "\n",
    "st.dataframe(var)\n",
    "df_plot = df1[(df1.cafv_eligibilaty == CAFV) &\n",
    "              (df1.model_year >= year_min) &\n",
    "              (df1.model_year <= year_max) &\n",
    "              (df1.electric_vehicle_type == Type) &\n",
    "              (df1.electric_range >= electric_range_min) &\n",
    "              (df1.electric_range <= electric_range_max) &\n",
    "              (df1.make == Make)]\n",
    "\n",
    "color_map = {\n",
    "    'Electric': 'blue',\n",
    "    'Hybrid': 'green',\n",
    "    'Plug-in Hybrid': 'orange'\n",
    "}\n",
    "colors = [color_map.get(type, 'gray') for type in df_plot['electric_vehicle_type']]\n",
    "fig, ax = plt.subplots()\n",
    "plt.title(f'Puntos Totales del por Jugador - Posición')\n",
    "ax.barh(y=df_plot.unique(), width=df_plot['electric_range'], color= colors)\n",
    "st.caption('## También podemos mostrar gráficos')\n",
    "st.pyplot(fig)"
   ]
  },
  {
   "cell_type": "code",
   "execution_count": 8,
   "id": "4bf0b244",
   "metadata": {},
   "outputs": [
    {
     "name": "stdout",
     "output_type": "stream",
     "text": [
      "Collecting streamlit_folium\n",
      "  Downloading streamlit_folium-0.13.0-py3-none-any.whl (450 kB)\n",
      "\u001b[2K     \u001b[90m━━━━━━━━━━━━━━━━━━━━━━━━━━━━━━━━━━━━━━━\u001b[0m \u001b[32m450.1/450.1 kB\u001b[0m \u001b[31m1.2 MB/s\u001b[0m eta \u001b[36m0:00:00\u001b[0ma \u001b[36m0:00:01\u001b[0m\n",
      "\u001b[?25hRequirement already satisfied: jinja2 in /Users/nico/anaconda3/lib/python3.10/site-packages (from streamlit_folium) (3.1.2)\n",
      "Requirement already satisfied: folium>=0.13 in /Users/nico/anaconda3/lib/python3.10/site-packages (from streamlit_folium) (0.14.0)\n",
      "Requirement already satisfied: branca in /Users/nico/anaconda3/lib/python3.10/site-packages (from streamlit_folium) (0.6.0)\n",
      "Requirement already satisfied: streamlit>=1.13.0 in /Users/nico/anaconda3/lib/python3.10/site-packages (from streamlit_folium) (1.26.0)\n",
      "Requirement already satisfied: requests in /Users/nico/anaconda3/lib/python3.10/site-packages (from folium>=0.13->streamlit_folium) (2.28.1)\n",
      "Requirement already satisfied: numpy in /Users/nico/anaconda3/lib/python3.10/site-packages (from folium>=0.13->streamlit_folium) (1.23.5)\n",
      "Requirement already satisfied: MarkupSafe>=2.0 in /Users/nico/anaconda3/lib/python3.10/site-packages (from jinja2->streamlit_folium) (2.1.1)\n",
      "Requirement already satisfied: cachetools<6,>=4.0 in /Users/nico/anaconda3/lib/python3.10/site-packages (from streamlit>=1.13.0->streamlit_folium) (5.3.1)\n",
      "Requirement already satisfied: toml<2,>=0.10.1 in /Users/nico/anaconda3/lib/python3.10/site-packages (from streamlit>=1.13.0->streamlit_folium) (0.10.2)\n",
      "Requirement already satisfied: pillow<10,>=7.1.0 in /Users/nico/anaconda3/lib/python3.10/site-packages (from streamlit>=1.13.0->streamlit_folium) (9.4.0)\n",
      "Requirement already satisfied: rich<14,>=10.14.0 in /Users/nico/anaconda3/lib/python3.10/site-packages (from streamlit>=1.13.0->streamlit_folium) (13.5.2)\n",
      "Requirement already satisfied: pandas<3,>=1.3.0 in /Users/nico/anaconda3/lib/python3.10/site-packages (from streamlit>=1.13.0->streamlit_folium) (1.5.3)\n",
      "Requirement already satisfied: pyarrow>=6.0 in /Users/nico/anaconda3/lib/python3.10/site-packages (from streamlit>=1.13.0->streamlit_folium) (12.0.1)\n",
      "Requirement already satisfied: gitpython!=3.1.19,<4,>=3.0.7 in /Users/nico/anaconda3/lib/python3.10/site-packages (from streamlit>=1.13.0->streamlit_folium) (3.1.32)\n",
      "Requirement already satisfied: python-dateutil<3,>=2.7.3 in /Users/nico/anaconda3/lib/python3.10/site-packages (from streamlit>=1.13.0->streamlit_folium) (2.8.2)\n",
      "Requirement already satisfied: importlib-metadata<7,>=1.4 in /Users/nico/anaconda3/lib/python3.10/site-packages (from streamlit>=1.13.0->streamlit_folium) (4.11.3)\n",
      "Requirement already satisfied: click<9,>=7.0 in /Users/nico/anaconda3/lib/python3.10/site-packages (from streamlit>=1.13.0->streamlit_folium) (8.0.4)\n",
      "Requirement already satisfied: tzlocal<5,>=1.1 in /Users/nico/anaconda3/lib/python3.10/site-packages (from streamlit>=1.13.0->streamlit_folium) (4.3.1)\n",
      "Requirement already satisfied: blinker<2,>=1.0.0 in /Users/nico/anaconda3/lib/python3.10/site-packages (from streamlit>=1.13.0->streamlit_folium) (1.6.2)\n",
      "Requirement already satisfied: typing-extensions<5,>=4.1.0 in /Users/nico/anaconda3/lib/python3.10/site-packages (from streamlit>=1.13.0->streamlit_folium) (4.7.1)\n",
      "Requirement already satisfied: pympler<2,>=0.9 in /Users/nico/anaconda3/lib/python3.10/site-packages (from streamlit>=1.13.0->streamlit_folium) (1.0.1)\n",
      "Requirement already satisfied: validators<1,>=0.2 in /Users/nico/anaconda3/lib/python3.10/site-packages (from streamlit>=1.13.0->streamlit_folium) (0.21.2)\n",
      "Requirement already satisfied: tornado<7,>=6.0.3 in /Users/nico/anaconda3/lib/python3.10/site-packages (from streamlit>=1.13.0->streamlit_folium) (6.1)\n",
      "Requirement already satisfied: tenacity<9,>=8.1.0 in /Users/nico/anaconda3/lib/python3.10/site-packages (from streamlit>=1.13.0->streamlit_folium) (8.2.3)\n",
      "Requirement already satisfied: protobuf<5,>=3.20 in /Users/nico/anaconda3/lib/python3.10/site-packages (from streamlit>=1.13.0->streamlit_folium) (4.21.12)\n",
      "Requirement already satisfied: packaging<24,>=16.8 in /Users/nico/anaconda3/lib/python3.10/site-packages (from streamlit>=1.13.0->streamlit_folium) (22.0)\n",
      "Requirement already satisfied: pydeck<1,>=0.8 in /Users/nico/anaconda3/lib/python3.10/site-packages (from streamlit>=1.13.0->streamlit_folium) (0.8.0)\n",
      "Requirement already satisfied: altair<6,>=4.0 in /Users/nico/anaconda3/lib/python3.10/site-packages (from streamlit>=1.13.0->streamlit_folium) (5.1.0)\n",
      "Requirement already satisfied: toolz in /Users/nico/anaconda3/lib/python3.10/site-packages (from altair<6,>=4.0->streamlit>=1.13.0->streamlit_folium) (0.12.0)\n",
      "Requirement already satisfied: jsonschema>=3.0 in /Users/nico/anaconda3/lib/python3.10/site-packages (from altair<6,>=4.0->streamlit>=1.13.0->streamlit_folium) (4.17.3)\n",
      "Requirement already satisfied: gitdb<5,>=4.0.1 in /Users/nico/anaconda3/lib/python3.10/site-packages (from gitpython!=3.1.19,<4,>=3.0.7->streamlit>=1.13.0->streamlit_folium) (4.0.10)\n",
      "Requirement already satisfied: zipp>=0.5 in /Users/nico/anaconda3/lib/python3.10/site-packages (from importlib-metadata<7,>=1.4->streamlit>=1.13.0->streamlit_folium) (3.11.0)\n",
      "Requirement already satisfied: pytz>=2020.1 in /Users/nico/anaconda3/lib/python3.10/site-packages (from pandas<3,>=1.3.0->streamlit>=1.13.0->streamlit_folium) (2022.7)\n",
      "Requirement already satisfied: six>=1.5 in /Users/nico/anaconda3/lib/python3.10/site-packages (from python-dateutil<3,>=2.7.3->streamlit>=1.13.0->streamlit_folium) (1.16.0)\n",
      "Requirement already satisfied: idna<4,>=2.5 in /Users/nico/anaconda3/lib/python3.10/site-packages (from requests->folium>=0.13->streamlit_folium) (3.4)\n",
      "Requirement already satisfied: certifi>=2017.4.17 in /Users/nico/anaconda3/lib/python3.10/site-packages (from requests->folium>=0.13->streamlit_folium) (2023.7.22)\n",
      "Requirement already satisfied: urllib3<1.27,>=1.21.1 in /Users/nico/anaconda3/lib/python3.10/site-packages (from requests->folium>=0.13->streamlit_folium) (1.26.14)\n",
      "Requirement already satisfied: charset-normalizer<3,>=2 in /Users/nico/anaconda3/lib/python3.10/site-packages (from requests->folium>=0.13->streamlit_folium) (2.0.4)\n",
      "Requirement already satisfied: markdown-it-py>=2.2.0 in /Users/nico/anaconda3/lib/python3.10/site-packages (from rich<14,>=10.14.0->streamlit>=1.13.0->streamlit_folium) (3.0.0)\n",
      "Requirement already satisfied: pygments<3.0.0,>=2.13.0 in /Users/nico/anaconda3/lib/python3.10/site-packages (from rich<14,>=10.14.0->streamlit>=1.13.0->streamlit_folium) (2.15.1)\n",
      "Requirement already satisfied: pytz-deprecation-shim in /Users/nico/anaconda3/lib/python3.10/site-packages (from tzlocal<5,>=1.1->streamlit>=1.13.0->streamlit_folium) (0.1.0.post0)\n",
      "Requirement already satisfied: smmap<6,>=3.0.1 in /Users/nico/anaconda3/lib/python3.10/site-packages (from gitdb<5,>=4.0.1->gitpython!=3.1.19,<4,>=3.0.7->streamlit>=1.13.0->streamlit_folium) (5.0.0)\n",
      "Requirement already satisfied: pyrsistent!=0.17.0,!=0.17.1,!=0.17.2,>=0.14.0 in /Users/nico/anaconda3/lib/python3.10/site-packages (from jsonschema>=3.0->altair<6,>=4.0->streamlit>=1.13.0->streamlit_folium) (0.18.0)\n",
      "Requirement already satisfied: attrs>=17.4.0 in /Users/nico/anaconda3/lib/python3.10/site-packages (from jsonschema>=3.0->altair<6,>=4.0->streamlit>=1.13.0->streamlit_folium) (22.1.0)\n",
      "Requirement already satisfied: mdurl~=0.1 in /Users/nico/anaconda3/lib/python3.10/site-packages (from markdown-it-py>=2.2.0->rich<14,>=10.14.0->streamlit>=1.13.0->streamlit_folium) (0.1.2)\n",
      "Requirement already satisfied: tzdata in /Users/nico/anaconda3/lib/python3.10/site-packages (from pytz-deprecation-shim->tzlocal<5,>=1.1->streamlit>=1.13.0->streamlit_folium) (2023.3)\n",
      "Installing collected packages: streamlit_folium\n",
      "Successfully installed streamlit_folium-0.13.0\n",
      "Note: you may need to restart the kernel to use updated packages.\n"
     ]
    }
   ],
   "source": [
    "%pip install streamlit_folium"
   ]
  },
  {
   "cell_type": "code",
   "execution_count": 9,
   "id": "fc244b2b",
   "metadata": {},
   "outputs": [],
   "source": [
    "import streamlit as st\n",
    "import pandas as pd\n",
    "from PIL import Image\n",
    "import pylab as plt\n",
    "import webbrowser\n",
    "import base64\n",
    "import io\n",
    "import folium\n",
    "from folium.plugins import MarkerCluster\n",
    "from streamlit_folium import st_folium"
   ]
  },
  {
   "cell_type": "code",
   "execution_count": 4,
   "id": "59507988",
   "metadata": {},
   "outputs": [],
   "source": [
    "cars = pd.read_csv('Clean_Electric_Vehicle_Population_Data.csv')\n",
    "price = pd.read_csv('Cars_Price_Clean.csv')\n",
    "stations = pd.read_csv('Clean_Charging_stations.csv')"
   ]
  },
  {
   "cell_type": "code",
   "execution_count": 29,
   "id": "6e3d8c44",
   "metadata": {},
   "outputs": [
    {
     "data": {
      "text/html": [
       "<div>\n",
       "<style scoped>\n",
       "    .dataframe tbody tr th:only-of-type {\n",
       "        vertical-align: middle;\n",
       "    }\n",
       "\n",
       "    .dataframe tbody tr th {\n",
       "        vertical-align: top;\n",
       "    }\n",
       "\n",
       "    .dataframe thead th {\n",
       "        text-align: right;\n",
       "    }\n",
       "</style>\n",
       "<table border=\"1\" class=\"dataframe\">\n",
       "  <thead>\n",
       "    <tr style=\"text-align: right;\">\n",
       "      <th></th>\n",
       "      <th>Make</th>\n",
       "      <th>model</th>\n",
       "      <th>price</th>\n",
       "    </tr>\n",
       "  </thead>\n",
       "  <tbody>\n",
       "    <tr>\n",
       "      <th>0</th>\n",
       "      <td>Average</td>\n",
       "      <td>NaN</td>\n",
       "      <td>61354</td>\n",
       "    </tr>\n",
       "    <tr>\n",
       "      <th>1</th>\n",
       "      <td>BYD</td>\n",
       "      <td>DOLPHIN</td>\n",
       "      <td>26000</td>\n",
       "    </tr>\n",
       "    <tr>\n",
       "      <th>2</th>\n",
       "      <td>MG</td>\n",
       "      <td>MG4</td>\n",
       "      <td>26995</td>\n",
       "    </tr>\n",
       "    <tr>\n",
       "      <th>3</th>\n",
       "      <td>Fiat</td>\n",
       "      <td>500e</td>\n",
       "      <td>28195</td>\n",
       "    </tr>\n",
       "    <tr>\n",
       "      <th>4</th>\n",
       "      <td>BYD</td>\n",
       "      <td>DOLPHIN</td>\n",
       "      <td>28500</td>\n",
       "    </tr>\n",
       "    <tr>\n",
       "      <th>...</th>\n",
       "      <td>...</td>\n",
       "      <td>...</td>\n",
       "      <td>...</td>\n",
       "    </tr>\n",
       "    <tr>\n",
       "      <th>205</th>\n",
       "      <td>Porsche</td>\n",
       "      <td>Taycan</td>\n",
       "      <td>149300</td>\n",
       "    </tr>\n",
       "    <tr>\n",
       "      <th>206</th>\n",
       "      <td>Mercedes</td>\n",
       "      <td>EQS</td>\n",
       "      <td>161860</td>\n",
       "    </tr>\n",
       "    <tr>\n",
       "      <th>207</th>\n",
       "      <td>BMW</td>\n",
       "      <td>i7</td>\n",
       "      <td>163315</td>\n",
       "    </tr>\n",
       "    <tr>\n",
       "      <th>208</th>\n",
       "      <td>Maserati</td>\n",
       "      <td>GranTurismo</td>\n",
       "      <td>200000</td>\n",
       "    </tr>\n",
       "    <tr>\n",
       "      <th>209</th>\n",
       "      <td>Rolls-Royce</td>\n",
       "      <td>Spectre</td>\n",
       "      <td>350000</td>\n",
       "    </tr>\n",
       "  </tbody>\n",
       "</table>\n",
       "<p>210 rows × 3 columns</p>\n",
       "</div>"
      ],
      "text/plain": [
       "            Make        model   price\n",
       "0        Average          NaN   61354\n",
       "1            BYD      DOLPHIN   26000\n",
       "2             MG          MG4   26995\n",
       "3           Fiat         500e   28195\n",
       "4            BYD      DOLPHIN   28500\n",
       "..           ...          ...     ...\n",
       "205      Porsche       Taycan  149300\n",
       "206     Mercedes          EQS  161860\n",
       "207          BMW           i7  163315\n",
       "208     Maserati  GranTurismo  200000\n",
       "209  Rolls-Royce      Spectre  350000\n",
       "\n",
       "[210 rows x 3 columns]"
      ]
     },
     "execution_count": 29,
     "metadata": {},
     "output_type": "execute_result"
    }
   ],
   "source": [
    "price"
   ]
  },
  {
   "cell_type": "code",
   "execution_count": 28,
   "id": "f10e8134",
   "metadata": {},
   "outputs": [
    {
     "data": {
      "text/html": [
       "<div>\n",
       "<style scoped>\n",
       "    .dataframe tbody tr th:only-of-type {\n",
       "        vertical-align: middle;\n",
       "    }\n",
       "\n",
       "    .dataframe tbody tr th {\n",
       "        vertical-align: top;\n",
       "    }\n",
       "\n",
       "    .dataframe thead th {\n",
       "        text-align: right;\n",
       "    }\n",
       "</style>\n",
       "<table border=\"1\" class=\"dataframe\">\n",
       "  <thead>\n",
       "    <tr style=\"text-align: right;\">\n",
       "      <th></th>\n",
       "      <th>model_year</th>\n",
       "      <th>make</th>\n",
       "      <th>model</th>\n",
       "      <th>electric_vehicle_type</th>\n",
       "      <th>cafv_eligibilaty</th>\n",
       "      <th>electric_range</th>\n",
       "    </tr>\n",
       "  </thead>\n",
       "  <tbody>\n",
       "    <tr>\n",
       "      <th>0</th>\n",
       "      <td>2011</td>\n",
       "      <td>NISSAN</td>\n",
       "      <td>LEAF</td>\n",
       "      <td>Electric</td>\n",
       "      <td>Clean Alternative Fuel Vehicle Eligible</td>\n",
       "      <td>73</td>\n",
       "    </tr>\n",
       "    <tr>\n",
       "      <th>1</th>\n",
       "      <td>2017</td>\n",
       "      <td>CHEVROLET</td>\n",
       "      <td>BOLT EV</td>\n",
       "      <td>Electric</td>\n",
       "      <td>Clean Alternative Fuel Vehicle Eligible</td>\n",
       "      <td>238</td>\n",
       "    </tr>\n",
       "    <tr>\n",
       "      <th>2</th>\n",
       "      <td>2019</td>\n",
       "      <td>FORD</td>\n",
       "      <td>FUSION</td>\n",
       "      <td>Plug-in Hybrid</td>\n",
       "      <td>Not eligible due to low battery range</td>\n",
       "      <td>26</td>\n",
       "    </tr>\n",
       "    <tr>\n",
       "      <th>3</th>\n",
       "      <td>2018</td>\n",
       "      <td>TESLA</td>\n",
       "      <td>MODEL 3</td>\n",
       "      <td>Electric</td>\n",
       "      <td>Clean Alternative Fuel Vehicle Eligible</td>\n",
       "      <td>215</td>\n",
       "    </tr>\n",
       "    <tr>\n",
       "      <th>4</th>\n",
       "      <td>2013</td>\n",
       "      <td>NISSAN</td>\n",
       "      <td>LEAF</td>\n",
       "      <td>Electric</td>\n",
       "      <td>Clean Alternative Fuel Vehicle Eligible</td>\n",
       "      <td>75</td>\n",
       "    </tr>\n",
       "    <tr>\n",
       "      <th>...</th>\n",
       "      <td>...</td>\n",
       "      <td>...</td>\n",
       "      <td>...</td>\n",
       "      <td>...</td>\n",
       "      <td>...</td>\n",
       "      <td>...</td>\n",
       "    </tr>\n",
       "    <tr>\n",
       "      <th>36277</th>\n",
       "      <td>2018</td>\n",
       "      <td>TESLA</td>\n",
       "      <td>MODEL 3</td>\n",
       "      <td>Electric</td>\n",
       "      <td>Clean Alternative Fuel Vehicle Eligible</td>\n",
       "      <td>215</td>\n",
       "    </tr>\n",
       "    <tr>\n",
       "      <th>36278</th>\n",
       "      <td>2019</td>\n",
       "      <td>SMART</td>\n",
       "      <td>EQ FORTWO</td>\n",
       "      <td>Electric</td>\n",
       "      <td>Clean Alternative Fuel Vehicle Eligible</td>\n",
       "      <td>58</td>\n",
       "    </tr>\n",
       "    <tr>\n",
       "      <th>36279</th>\n",
       "      <td>2018</td>\n",
       "      <td>MERCEDES-BENZ</td>\n",
       "      <td>C-CLASS</td>\n",
       "      <td>Plug-in Hybrid</td>\n",
       "      <td>Not eligible due to low battery range</td>\n",
       "      <td>8</td>\n",
       "    </tr>\n",
       "    <tr>\n",
       "      <th>36280</th>\n",
       "      <td>2020</td>\n",
       "      <td>AUDI</td>\n",
       "      <td>Q5 E</td>\n",
       "      <td>Plug-in Hybrid</td>\n",
       "      <td>Not eligible due to low battery range</td>\n",
       "      <td>20</td>\n",
       "    </tr>\n",
       "    <tr>\n",
       "      <th>36281</th>\n",
       "      <td>2022</td>\n",
       "      <td>VOLVO</td>\n",
       "      <td>XC90</td>\n",
       "      <td>Plug-in Hybrid</td>\n",
       "      <td>Not eligible due to low battery range</td>\n",
       "      <td>18</td>\n",
       "    </tr>\n",
       "  </tbody>\n",
       "</table>\n",
       "<p>36282 rows × 6 columns</p>\n",
       "</div>"
      ],
      "text/plain": [
       "       model_year           make      model electric_vehicle_type  \\\n",
       "0            2011         NISSAN       LEAF              Electric   \n",
       "1            2017      CHEVROLET    BOLT EV              Electric   \n",
       "2            2019           FORD     FUSION        Plug-in Hybrid   \n",
       "3            2018          TESLA    MODEL 3              Electric   \n",
       "4            2013         NISSAN       LEAF              Electric   \n",
       "...           ...            ...        ...                   ...   \n",
       "36277        2018          TESLA    MODEL 3              Electric   \n",
       "36278        2019          SMART  EQ FORTWO              Electric   \n",
       "36279        2018  MERCEDES-BENZ    C-CLASS        Plug-in Hybrid   \n",
       "36280        2020           AUDI       Q5 E        Plug-in Hybrid   \n",
       "36281        2022          VOLVO       XC90        Plug-in Hybrid   \n",
       "\n",
       "                              cafv_eligibilaty  electric_range  \n",
       "0      Clean Alternative Fuel Vehicle Eligible              73  \n",
       "1      Clean Alternative Fuel Vehicle Eligible             238  \n",
       "2        Not eligible due to low battery range              26  \n",
       "3      Clean Alternative Fuel Vehicle Eligible             215  \n",
       "4      Clean Alternative Fuel Vehicle Eligible              75  \n",
       "...                                        ...             ...  \n",
       "36277  Clean Alternative Fuel Vehicle Eligible             215  \n",
       "36278  Clean Alternative Fuel Vehicle Eligible              58  \n",
       "36279    Not eligible due to low battery range               8  \n",
       "36280    Not eligible due to low battery range              20  \n",
       "36281    Not eligible due to low battery range              18  \n",
       "\n",
       "[36282 rows x 6 columns]"
      ]
     },
     "execution_count": 28,
     "metadata": {},
     "output_type": "execute_result"
    }
   ],
   "source": [
    "cars[['model_year','make', 'model', 'electric_vehicle_type', 'cafv_eligibilaty','electric_range']] "
   ]
  },
  {
   "cell_type": "code",
   "execution_count": null,
   "id": "df3e46cd",
   "metadata": {},
   "outputs": [],
   "source": [
    "m = folium.Map(location= [ 41.730405,-72.790618 ], tiles = 'OpenStreetMap', zoom_start = 10)\n",
    "for i,row in df1.iterrows():\n",
    "    latitude = df1.at[i, 'latitude']\n",
    "    longitude = df1.at[i, 'longitude']\n",
    "    name = df1.at[i, 'station_name']\n",
    "    \n",
    "    folium.Marker(location= [longitude, latitude],popup= name,icon= folium.Icon(color= 'blue')).add_to(m)\n",
    "st_data = st_folium(m, width=725)"
   ]
  },
  {
   "cell_type": "code",
   "execution_count": 25,
   "id": "2b812e00",
   "metadata": {},
   "outputs": [
    {
     "name": "stdout",
     "output_type": "stream",
     "text": [
      "['LEAF' 'BOLT EV' 'FUSION' 'MODEL 3' 'SOUL' 'Q5 E' 'MODEL X' 'VOLT' 'X5'\n",
      " '530E' 'TAYCAN' 'X3' 'A3' 'SOUL EV' 'C-MAX' '500' 'MODEL S' 'F-150' 'CT6'\n",
      " 'I3' 'MODEL Y' 'NIRO' 'OUTLANDER' 'PACIFICA' 'R1T' 'CLARITY'\n",
      " 'KONA ELECTRIC' 'XC40' 'ID.4' 'PRIUS PLUG-IN' 'MUSTANG MACH-E'\n",
      " 'EQB-CLASS' 'RAV4 PRIME' 'E-GOLF' 'PRIUS PRIME' 'C40' 'SORENTO' 'XC60'\n",
      " 'CAYENNE' 'WRANGLER' 'COUNTRYMAN' 'S60' 'EV6' 'FORTWO ELECTRIC DRIVE'\n",
      " 'GRAND CHEROKEE' '330E' 'CROSSTREK' 'IONIQ 5' 'IONIQ' 'E-TRON' 'ROADSTER'\n",
      " 'KONA' 'XC90' 'SPARK' 'PS2' 'A7' 'HARDTOP' 'ESCAPE' 'LUCID AIR'\n",
      " 'E-TRON SPORTBACK' 'Q5' 'RAV4' 'AVIATOR' 'E-TRON GT' 'EDV' 'IX' 'FORTWO'\n",
      " 'I-PACE' 'SANTA FE' 'B-CLASS' 'KARMA' 'I4' 'OPTIMA' 'GLC-CLASS' 'Q4'\n",
      " 'SONATA' 'EQ FORTWO' 'FOCUS' 'RANGE ROVER SPORT' 'TRANSIT' 'PANAMERA'\n",
      " 'I8' 'BOLT EUV' 'CORSAIR' 'ELR' 'GLE-CLASS' 'V60' 'EQS-CLASS SEDAN' 'R1S'\n",
      " 'I-MIEV' 'NX' '740E' 'SPORTAGE' 'C-CLASS' 'S-CLASS' 'CITY' 'S90' 'TUCSON'\n",
      " 'GV60' 'EQS-CLASS SUV' 'A8 E' 'RANGE ROVER' 'RS E-TRON GT' 'RANGER'\n",
      " 'BENTAYGA' '745E' 'TRANSIT CONNECT ELECTRIC' 'ACCORD' 'S-10 PICKUP'\n",
      " 'SOLTERRA' 'G80' '918' 'FLYING SPUR' '745LE']\n"
     ]
    },
    {
     "data": {
      "text/plain": [
       "array([nan, 'DOLPHIN', 'MG4', '500e', 'Leaf', 'Zoe', 'ZS', 'MG5', '600e',\n",
       "       'MX-30', 'e-208', 'e-C4', 'Funky', 'e-Berlingo', 'Corsa',\n",
       "       'Electric', 'Soul', 'e-Rifter', 'EX30', 'Corsa-e', 'Combo-e',\n",
       "       'Kona', 'Avenger', '#1', 'Ocean', 'e-2008', 'Born', 'ATTO',\n",
       "       'Vivaro-e', 'Megane', 'e-308', 'e-SpaceTourer', 'ID.3', '3',\n",
       "       'Niro', 'e', 'Mokka-e', 'ID.4', 'Enyaq', 'Astra', 'e-Traveller',\n",
       "       'Model', 'IONIQ', '2', 'EV6', 'bZ4X', 'Ariya', 'XC40', 'UX', 'C40',\n",
       "       'Solterra', 'i4', 'Tavascan', 'Q4', 'ID.5', 'Mustang', 'EQA',\n",
       "       'ID.7', 'iX1', 'GV60', '4', 'EQB', 'ID.', 'EV9', 'iX3', 'RZ',\n",
       "       'GV70', 'MIFA', 'Q8', 'G80', 'iX', 'I-Pace', 'i5', 'EQE', 'eVito',\n",
       "       'Taycan', 'e-tron', 'EQV', 'Eletre', 'EX90', 'SQ8', 'i7', 'EQS',\n",
       "       'Grecale', 'GranTurismo', 'Spectre'], dtype=object)"
      ]
     },
     "execution_count": 25,
     "metadata": {},
     "output_type": "execute_result"
    }
   ],
   "source": [
    "print(cars.model.unique())\n",
    "price.model.unique()"
   ]
  },
  {
   "cell_type": "code",
   "execution_count": 15,
   "id": "cafa29df",
   "metadata": {},
   "outputs": [
    {
     "ename": "IndentationError",
     "evalue": "expected an indented block after 'with' statement on line 4 (3788292991.py, line 5)",
     "output_type": "error",
     "traceback": [
      "\u001b[0;36m  Cell \u001b[0;32mIn[15], line 5\u001b[0;36m\u001b[0m\n\u001b[0;31m    gol_min, gol_max = st.select_slider('Filtrar por Goles', # slider => filtro barra deslizante\u001b[0m\n\u001b[0m    ^\u001b[0m\n\u001b[0;31mIndentationError\u001b[0m\u001b[0;31m:\u001b[0m expected an indented block after 'with' statement on line 4\n"
     ]
    }
   ],
   "source": [
    "CAFV, Price, Make, Model, Electric_Range = st.columns(5)\n",
    "with CAFVs:\n",
    "    CAFV = st.selectbox('Filtrar Equipos', cars.cafv_eligibilaty.unique())\n",
    "with goles:\n",
    "gol_min, gol_max = st.select_slider('Filtrar por Goles', # slider => filtro barra deslizante\n",
    "                                    options=[i for i in range(0,df.Goals.max()+1)],\n",
    "                                    value=[0, df.Goals.max()])"
   ]
  },
  {
   "cell_type": "code",
   "execution_count": 11,
   "id": "81000be4",
   "metadata": {},
   "outputs": [
    {
     "data": {
      "text/html": [
       "<div>\n",
       "<style scoped>\n",
       "    .dataframe tbody tr th:only-of-type {\n",
       "        vertical-align: middle;\n",
       "    }\n",
       "\n",
       "    .dataframe tbody tr th {\n",
       "        vertical-align: top;\n",
       "    }\n",
       "\n",
       "    .dataframe thead th {\n",
       "        text-align: right;\n",
       "    }\n",
       "</style>\n",
       "<table border=\"1\" class=\"dataframe\">\n",
       "  <thead>\n",
       "    <tr style=\"text-align: right;\">\n",
       "      <th></th>\n",
       "      <th>Unnamed: 0</th>\n",
       "      <th>county</th>\n",
       "      <th>city</th>\n",
       "      <th>state</th>\n",
       "      <th>postal_code</th>\n",
       "      <th>model_year</th>\n",
       "      <th>make</th>\n",
       "      <th>model</th>\n",
       "      <th>cafv_eligibilaty</th>\n",
       "      <th>electric_range</th>\n",
       "      <th>vehicle_location</th>\n",
       "      <th>electric_utility</th>\n",
       "      <th>latitude</th>\n",
       "      <th>longitude</th>\n",
       "    </tr>\n",
       "    <tr>\n",
       "      <th>electric_vehicle_type</th>\n",
       "      <th></th>\n",
       "      <th></th>\n",
       "      <th></th>\n",
       "      <th></th>\n",
       "      <th></th>\n",
       "      <th></th>\n",
       "      <th></th>\n",
       "      <th></th>\n",
       "      <th></th>\n",
       "      <th></th>\n",
       "      <th></th>\n",
       "      <th></th>\n",
       "      <th></th>\n",
       "      <th></th>\n",
       "    </tr>\n",
       "  </thead>\n",
       "  <tbody>\n",
       "    <tr>\n",
       "      <th>Electric</th>\n",
       "      <td>21723</td>\n",
       "      <td>21723</td>\n",
       "      <td>21723</td>\n",
       "      <td>21723</td>\n",
       "      <td>21723</td>\n",
       "      <td>21723</td>\n",
       "      <td>21723</td>\n",
       "      <td>21723</td>\n",
       "      <td>21723</td>\n",
       "      <td>21723</td>\n",
       "      <td>21723</td>\n",
       "      <td>21723</td>\n",
       "      <td>21723</td>\n",
       "      <td>21723</td>\n",
       "    </tr>\n",
       "    <tr>\n",
       "      <th>Plug-in Hybrid</th>\n",
       "      <td>14559</td>\n",
       "      <td>14559</td>\n",
       "      <td>14559</td>\n",
       "      <td>14559</td>\n",
       "      <td>14559</td>\n",
       "      <td>14559</td>\n",
       "      <td>14559</td>\n",
       "      <td>14559</td>\n",
       "      <td>14559</td>\n",
       "      <td>14559</td>\n",
       "      <td>14559</td>\n",
       "      <td>14559</td>\n",
       "      <td>14559</td>\n",
       "      <td>14559</td>\n",
       "    </tr>\n",
       "  </tbody>\n",
       "</table>\n",
       "</div>"
      ],
      "text/plain": [
       "                       Unnamed: 0  county   city  state  postal_code  \\\n",
       "electric_vehicle_type                                                  \n",
       "Electric                    21723   21723  21723  21723        21723   \n",
       "Plug-in Hybrid              14559   14559  14559  14559        14559   \n",
       "\n",
       "                       model_year   make  model  cafv_eligibilaty  \\\n",
       "electric_vehicle_type                                               \n",
       "Electric                    21723  21723  21723             21723   \n",
       "Plug-in Hybrid              14559  14559  14559             14559   \n",
       "\n",
       "                       electric_range  vehicle_location  electric_utility  \\\n",
       "electric_vehicle_type                                                       \n",
       "Electric                        21723             21723             21723   \n",
       "Plug-in Hybrid                  14559             14559             14559   \n",
       "\n",
       "                       latitude  longitude  \n",
       "electric_vehicle_type                       \n",
       "Electric                  21723      21723  \n",
       "Plug-in Hybrid            14559      14559  "
      ]
     },
     "execution_count": 11,
     "metadata": {},
     "output_type": "execute_result"
    }
   ],
   "source": [
    "cep = cars.groupby('electric_vehicle_type').count()\n",
    "cep"
   ]
  },
  {
   "cell_type": "code",
   "execution_count": 7,
   "id": "f5c5837c",
   "metadata": {},
   "outputs": [
    {
     "data": {
      "text/html": [
       "<div>\n",
       "<style scoped>\n",
       "    .dataframe tbody tr th:only-of-type {\n",
       "        vertical-align: middle;\n",
       "    }\n",
       "\n",
       "    .dataframe tbody tr th {\n",
       "        vertical-align: top;\n",
       "    }\n",
       "\n",
       "    .dataframe thead th {\n",
       "        text-align: right;\n",
       "    }\n",
       "</style>\n",
       "<table border=\"1\" class=\"dataframe\">\n",
       "  <thead>\n",
       "    <tr style=\"text-align: right;\">\n",
       "      <th></th>\n",
       "      <th>Unnamed: 0</th>\n",
       "      <th>county</th>\n",
       "      <th>city</th>\n",
       "      <th>state</th>\n",
       "      <th>postal_code</th>\n",
       "      <th>model_year</th>\n",
       "      <th>make</th>\n",
       "      <th>model</th>\n",
       "      <th>electric_vehicle_type</th>\n",
       "      <th>cafv_eligibilaty</th>\n",
       "      <th>electric_range</th>\n",
       "      <th>vehicle_location</th>\n",
       "      <th>electric_utility</th>\n",
       "      <th>latitude</th>\n",
       "      <th>longitude</th>\n",
       "    </tr>\n",
       "  </thead>\n",
       "  <tbody>\n",
       "    <tr>\n",
       "      <th>0</th>\n",
       "      <td>0</td>\n",
       "      <td>Yakima</td>\n",
       "      <td>Yakima</td>\n",
       "      <td>WA</td>\n",
       "      <td>98901</td>\n",
       "      <td>2011</td>\n",
       "      <td>NISSAN</td>\n",
       "      <td>LEAF</td>\n",
       "      <td>Electric</td>\n",
       "      <td>Clean Alternative Fuel Vehicle Eligible</td>\n",
       "      <td>73</td>\n",
       "      <td>(-120.50721 46.60448)</td>\n",
       "      <td>PACIFICORP</td>\n",
       "      <td>-120.50721</td>\n",
       "      <td>46.60448</td>\n",
       "    </tr>\n",
       "    <tr>\n",
       "      <th>1</th>\n",
       "      <td>1</td>\n",
       "      <td>Skagit</td>\n",
       "      <td>Concrete</td>\n",
       "      <td>WA</td>\n",
       "      <td>98237</td>\n",
       "      <td>2017</td>\n",
       "      <td>CHEVROLET</td>\n",
       "      <td>BOLT EV</td>\n",
       "      <td>Electric</td>\n",
       "      <td>Clean Alternative Fuel Vehicle Eligible</td>\n",
       "      <td>238</td>\n",
       "      <td>(-121.7515 48.53892)</td>\n",
       "      <td>PUGET SOUND ENERGY INC</td>\n",
       "      <td>-121.75150</td>\n",
       "      <td>48.53892</td>\n",
       "    </tr>\n",
       "    <tr>\n",
       "      <th>2</th>\n",
       "      <td>2</td>\n",
       "      <td>Snohomish</td>\n",
       "      <td>Everett</td>\n",
       "      <td>WA</td>\n",
       "      <td>98201</td>\n",
       "      <td>2019</td>\n",
       "      <td>FORD</td>\n",
       "      <td>FUSION</td>\n",
       "      <td>Plug-in Hybrid</td>\n",
       "      <td>Not eligible due to low battery range</td>\n",
       "      <td>26</td>\n",
       "      <td>(-122.20596 47.97659)</td>\n",
       "      <td>PUGET SOUND ENERGY INC</td>\n",
       "      <td>-122.20596</td>\n",
       "      <td>47.97659</td>\n",
       "    </tr>\n",
       "    <tr>\n",
       "      <th>3</th>\n",
       "      <td>3</td>\n",
       "      <td>Snohomish</td>\n",
       "      <td>Bothell</td>\n",
       "      <td>WA</td>\n",
       "      <td>98021</td>\n",
       "      <td>2018</td>\n",
       "      <td>TESLA</td>\n",
       "      <td>MODEL 3</td>\n",
       "      <td>Electric</td>\n",
       "      <td>Clean Alternative Fuel Vehicle Eligible</td>\n",
       "      <td>215</td>\n",
       "      <td>(-122.18384 47.8031)</td>\n",
       "      <td>PUGET SOUND ENERGY INC</td>\n",
       "      <td>-122.18384</td>\n",
       "      <td>47.80310</td>\n",
       "    </tr>\n",
       "    <tr>\n",
       "      <th>4</th>\n",
       "      <td>4</td>\n",
       "      <td>Snohomish</td>\n",
       "      <td>Everett</td>\n",
       "      <td>WA</td>\n",
       "      <td>98203</td>\n",
       "      <td>2013</td>\n",
       "      <td>NISSAN</td>\n",
       "      <td>LEAF</td>\n",
       "      <td>Electric</td>\n",
       "      <td>Clean Alternative Fuel Vehicle Eligible</td>\n",
       "      <td>75</td>\n",
       "      <td>(-122.23019 47.94949)</td>\n",
       "      <td>PUGET SOUND ENERGY INC</td>\n",
       "      <td>-122.23019</td>\n",
       "      <td>47.94949</td>\n",
       "    </tr>\n",
       "    <tr>\n",
       "      <th>...</th>\n",
       "      <td>...</td>\n",
       "      <td>...</td>\n",
       "      <td>...</td>\n",
       "      <td>...</td>\n",
       "      <td>...</td>\n",
       "      <td>...</td>\n",
       "      <td>...</td>\n",
       "      <td>...</td>\n",
       "      <td>...</td>\n",
       "      <td>...</td>\n",
       "      <td>...</td>\n",
       "      <td>...</td>\n",
       "      <td>...</td>\n",
       "      <td>...</td>\n",
       "      <td>...</td>\n",
       "    </tr>\n",
       "    <tr>\n",
       "      <th>36277</th>\n",
       "      <td>36277</td>\n",
       "      <td>Kitsap</td>\n",
       "      <td>Gig Harbor</td>\n",
       "      <td>WA</td>\n",
       "      <td>98329</td>\n",
       "      <td>2018</td>\n",
       "      <td>TESLA</td>\n",
       "      <td>MODEL 3</td>\n",
       "      <td>Electric</td>\n",
       "      <td>Clean Alternative Fuel Vehicle Eligible</td>\n",
       "      <td>215</td>\n",
       "      <td>(-122.72457 47.38165)</td>\n",
       "      <td>PUGET SOUND ENERGY INC</td>\n",
       "      <td>-122.72457</td>\n",
       "      <td>47.38165</td>\n",
       "    </tr>\n",
       "    <tr>\n",
       "      <th>36278</th>\n",
       "      <td>36278</td>\n",
       "      <td>King</td>\n",
       "      <td>Seattle</td>\n",
       "      <td>WA</td>\n",
       "      <td>98133</td>\n",
       "      <td>2019</td>\n",
       "      <td>SMART</td>\n",
       "      <td>EQ FORTWO</td>\n",
       "      <td>Electric</td>\n",
       "      <td>Clean Alternative Fuel Vehicle Eligible</td>\n",
       "      <td>58</td>\n",
       "      <td>(-122.3503 47.71868)</td>\n",
       "      <td>CITY OF SEATTLE - (WA)|CITY OF TACOMA - (WA)</td>\n",
       "      <td>-122.35030</td>\n",
       "      <td>47.71868</td>\n",
       "    </tr>\n",
       "    <tr>\n",
       "      <th>36279</th>\n",
       "      <td>36279</td>\n",
       "      <td>Kitsap</td>\n",
       "      <td>Bainbridge Island</td>\n",
       "      <td>WA</td>\n",
       "      <td>98110</td>\n",
       "      <td>2018</td>\n",
       "      <td>MERCEDES-BENZ</td>\n",
       "      <td>C-CLASS</td>\n",
       "      <td>Plug-in Hybrid</td>\n",
       "      <td>Not eligible due to low battery range</td>\n",
       "      <td>8</td>\n",
       "      <td>(-122.521 47.62728)</td>\n",
       "      <td>PUGET SOUND ENERGY INC</td>\n",
       "      <td>-122.52100</td>\n",
       "      <td>47.62728</td>\n",
       "    </tr>\n",
       "    <tr>\n",
       "      <th>36280</th>\n",
       "      <td>36280</td>\n",
       "      <td>King</td>\n",
       "      <td>Seattle</td>\n",
       "      <td>WA</td>\n",
       "      <td>98177</td>\n",
       "      <td>2020</td>\n",
       "      <td>AUDI</td>\n",
       "      <td>Q5 E</td>\n",
       "      <td>Plug-in Hybrid</td>\n",
       "      <td>Not eligible due to low battery range</td>\n",
       "      <td>20</td>\n",
       "      <td>(-122.36498 47.72238)</td>\n",
       "      <td>CITY OF SEATTLE - (WA)|CITY OF TACOMA - (WA)</td>\n",
       "      <td>-122.36498</td>\n",
       "      <td>47.72238</td>\n",
       "    </tr>\n",
       "    <tr>\n",
       "      <th>36281</th>\n",
       "      <td>36281</td>\n",
       "      <td>King</td>\n",
       "      <td>Covington</td>\n",
       "      <td>WA</td>\n",
       "      <td>98042</td>\n",
       "      <td>2022</td>\n",
       "      <td>VOLVO</td>\n",
       "      <td>XC90</td>\n",
       "      <td>Plug-in Hybrid</td>\n",
       "      <td>Not eligible due to low battery range</td>\n",
       "      <td>18</td>\n",
       "      <td>(-122.09124 47.33778)</td>\n",
       "      <td>PUGET SOUND ENERGY INC</td>\n",
       "      <td>-122.09124</td>\n",
       "      <td>47.33778</td>\n",
       "    </tr>\n",
       "  </tbody>\n",
       "</table>\n",
       "<p>36282 rows × 15 columns</p>\n",
       "</div>"
      ],
      "text/plain": [
       "       Unnamed: 0     county               city state  postal_code  \\\n",
       "0               0     Yakima             Yakima    WA        98901   \n",
       "1               1     Skagit           Concrete    WA        98237   \n",
       "2               2  Snohomish            Everett    WA        98201   \n",
       "3               3  Snohomish            Bothell    WA        98021   \n",
       "4               4  Snohomish            Everett    WA        98203   \n",
       "...           ...        ...                ...   ...          ...   \n",
       "36277       36277     Kitsap         Gig Harbor    WA        98329   \n",
       "36278       36278       King            Seattle    WA        98133   \n",
       "36279       36279     Kitsap  Bainbridge Island    WA        98110   \n",
       "36280       36280       King            Seattle    WA        98177   \n",
       "36281       36281       King          Covington    WA        98042   \n",
       "\n",
       "       model_year           make      model electric_vehicle_type  \\\n",
       "0            2011         NISSAN       LEAF              Electric   \n",
       "1            2017      CHEVROLET    BOLT EV              Electric   \n",
       "2            2019           FORD     FUSION        Plug-in Hybrid   \n",
       "3            2018          TESLA    MODEL 3              Electric   \n",
       "4            2013         NISSAN       LEAF              Electric   \n",
       "...           ...            ...        ...                   ...   \n",
       "36277        2018          TESLA    MODEL 3              Electric   \n",
       "36278        2019          SMART  EQ FORTWO              Electric   \n",
       "36279        2018  MERCEDES-BENZ    C-CLASS        Plug-in Hybrid   \n",
       "36280        2020           AUDI       Q5 E        Plug-in Hybrid   \n",
       "36281        2022          VOLVO       XC90        Plug-in Hybrid   \n",
       "\n",
       "                              cafv_eligibilaty  electric_range  \\\n",
       "0      Clean Alternative Fuel Vehicle Eligible              73   \n",
       "1      Clean Alternative Fuel Vehicle Eligible             238   \n",
       "2        Not eligible due to low battery range              26   \n",
       "3      Clean Alternative Fuel Vehicle Eligible             215   \n",
       "4      Clean Alternative Fuel Vehicle Eligible              75   \n",
       "...                                        ...             ...   \n",
       "36277  Clean Alternative Fuel Vehicle Eligible             215   \n",
       "36278  Clean Alternative Fuel Vehicle Eligible              58   \n",
       "36279    Not eligible due to low battery range               8   \n",
       "36280    Not eligible due to low battery range              20   \n",
       "36281    Not eligible due to low battery range              18   \n",
       "\n",
       "             vehicle_location                              electric_utility  \\\n",
       "0       (-120.50721 46.60448)                                    PACIFICORP   \n",
       "1        (-121.7515 48.53892)                        PUGET SOUND ENERGY INC   \n",
       "2       (-122.20596 47.97659)                        PUGET SOUND ENERGY INC   \n",
       "3        (-122.18384 47.8031)                        PUGET SOUND ENERGY INC   \n",
       "4       (-122.23019 47.94949)                        PUGET SOUND ENERGY INC   \n",
       "...                       ...                                           ...   \n",
       "36277   (-122.72457 47.38165)                        PUGET SOUND ENERGY INC   \n",
       "36278    (-122.3503 47.71868)  CITY OF SEATTLE - (WA)|CITY OF TACOMA - (WA)   \n",
       "36279     (-122.521 47.62728)                        PUGET SOUND ENERGY INC   \n",
       "36280   (-122.36498 47.72238)  CITY OF SEATTLE - (WA)|CITY OF TACOMA - (WA)   \n",
       "36281   (-122.09124 47.33778)                        PUGET SOUND ENERGY INC   \n",
       "\n",
       "        latitude  longitude  \n",
       "0     -120.50721   46.60448  \n",
       "1     -121.75150   48.53892  \n",
       "2     -122.20596   47.97659  \n",
       "3     -122.18384   47.80310  \n",
       "4     -122.23019   47.94949  \n",
       "...          ...        ...  \n",
       "36277 -122.72457   47.38165  \n",
       "36278 -122.35030   47.71868  \n",
       "36279 -122.52100   47.62728  \n",
       "36280 -122.36498   47.72238  \n",
       "36281 -122.09124   47.33778  \n",
       "\n",
       "[36282 rows x 15 columns]"
      ]
     },
     "execution_count": 7,
     "metadata": {},
     "output_type": "execute_result"
    }
   ],
   "source": [
    "cars"
   ]
  },
  {
   "cell_type": "code",
   "execution_count": 18,
   "id": "d34e31c2",
   "metadata": {},
   "outputs": [
    {
     "name": "stdout",
     "output_type": "stream",
     "text": [
      "Collecting pygwalker\n",
      "  Downloading pygwalker-0.3.4-py3-none-any.whl (7.1 MB)\n",
      "\u001b[2K     \u001b[90m━━━━━━━━━━━━━━━━━━━━━━━━━━━━━━━━━━━━━━━━\u001b[0m \u001b[32m7.1/7.1 MB\u001b[0m \u001b[31m12.5 MB/s\u001b[0m eta \u001b[36m0:00:00\u001b[0m00:01\u001b[0m00:01\u001b[0m\n",
      "\u001b[?25hCollecting astor\n",
      "  Downloading astor-0.8.1-py2.py3-none-any.whl (27 kB)\n",
      "Collecting sqlglot\n",
      "  Downloading sqlglot-18.0.1-py3-none-any.whl (298 kB)\n",
      "\u001b[2K     \u001b[90m━━━━━━━━━━━━━━━━━━━━━━━━━━━━━━━━━━━━━━\u001b[0m \u001b[32m298.5/298.5 kB\u001b[0m \u001b[31m10.8 MB/s\u001b[0m eta \u001b[36m0:00:00\u001b[0m\n",
      "\u001b[?25hRequirement already satisfied: pydantic in /Users/nico/anaconda3/lib/python3.10/site-packages (from pygwalker) (2.1.1)\n",
      "Requirement already satisfied: pyarrow in /Users/nico/anaconda3/lib/python3.10/site-packages (from pygwalker) (12.0.1)\n",
      "Requirement already satisfied: typing-extensions in /Users/nico/anaconda3/lib/python3.10/site-packages (from pygwalker) (4.7.1)\n",
      "Requirement already satisfied: psutil in /Users/nico/anaconda3/lib/python3.10/site-packages (from pygwalker) (5.9.0)\n",
      "Requirement already satisfied: ipywidgets in /Users/nico/anaconda3/lib/python3.10/site-packages (from pygwalker) (7.6.5)\n",
      "Requirement already satisfied: requests in /Users/nico/anaconda3/lib/python3.10/site-packages (from pygwalker) (2.28.1)\n",
      "Requirement already satisfied: jinja2 in /Users/nico/anaconda3/lib/python3.10/site-packages (from pygwalker) (3.1.2)\n",
      "Requirement already satisfied: ipython in /Users/nico/anaconda3/lib/python3.10/site-packages (from pygwalker) (8.10.0)\n",
      "Collecting duckdb\n",
      "  Downloading duckdb-0.8.1-cp310-cp310-macosx_10_9_x86_64.whl (14.7 MB)\n",
      "\u001b[2K     \u001b[90m━━━━━━━━━━━━━━━━━━━━━━━━━━━━━━━━━━━━━━━━\u001b[0m \u001b[32m14.7/14.7 MB\u001b[0m \u001b[31m12.4 MB/s\u001b[0m eta \u001b[36m0:00:00\u001b[0m00:01\u001b[0m0:01\u001b[0mm\n",
      "\u001b[?25hRequirement already satisfied: appnope in /Users/nico/anaconda3/lib/python3.10/site-packages (from ipython->pygwalker) (0.1.2)\n",
      "Requirement already satisfied: traitlets>=5 in /Users/nico/anaconda3/lib/python3.10/site-packages (from ipython->pygwalker) (5.7.1)\n",
      "Requirement already satisfied: stack-data in /Users/nico/anaconda3/lib/python3.10/site-packages (from ipython->pygwalker) (0.2.0)\n",
      "Requirement already satisfied: decorator in /Users/nico/anaconda3/lib/python3.10/site-packages (from ipython->pygwalker) (5.1.1)\n",
      "Requirement already satisfied: jedi>=0.16 in /Users/nico/anaconda3/lib/python3.10/site-packages (from ipython->pygwalker) (0.18.1)\n",
      "Requirement already satisfied: prompt-toolkit<3.1.0,>=3.0.30 in /Users/nico/anaconda3/lib/python3.10/site-packages (from ipython->pygwalker) (3.0.36)\n",
      "Requirement already satisfied: pexpect>4.3 in /Users/nico/anaconda3/lib/python3.10/site-packages (from ipython->pygwalker) (4.8.0)\n",
      "Requirement already satisfied: backcall in /Users/nico/anaconda3/lib/python3.10/site-packages (from ipython->pygwalker) (0.2.0)\n",
      "Requirement already satisfied: pickleshare in /Users/nico/anaconda3/lib/python3.10/site-packages (from ipython->pygwalker) (0.7.5)\n",
      "Requirement already satisfied: pygments>=2.4.0 in /Users/nico/anaconda3/lib/python3.10/site-packages (from ipython->pygwalker) (2.15.1)\n",
      "Requirement already satisfied: matplotlib-inline in /Users/nico/anaconda3/lib/python3.10/site-packages (from ipython->pygwalker) (0.1.6)\n",
      "Requirement already satisfied: jupyterlab-widgets>=1.0.0 in /Users/nico/anaconda3/lib/python3.10/site-packages (from ipywidgets->pygwalker) (1.0.0)\n",
      "Requirement already satisfied: widgetsnbextension~=3.5.0 in /Users/nico/anaconda3/lib/python3.10/site-packages (from ipywidgets->pygwalker) (3.5.2)\n",
      "Requirement already satisfied: ipykernel>=4.5.1 in /Users/nico/anaconda3/lib/python3.10/site-packages (from ipywidgets->pygwalker) (6.19.2)\n",
      "Requirement already satisfied: ipython-genutils~=0.2.0 in /Users/nico/anaconda3/lib/python3.10/site-packages (from ipywidgets->pygwalker) (0.2.0)\n",
      "Requirement already satisfied: nbformat>=4.2.0 in /Users/nico/anaconda3/lib/python3.10/site-packages (from ipywidgets->pygwalker) (5.7.0)\n",
      "Requirement already satisfied: MarkupSafe>=2.0 in /Users/nico/anaconda3/lib/python3.10/site-packages (from jinja2->pygwalker) (2.1.1)\n",
      "Requirement already satisfied: numpy>=1.16.6 in /Users/nico/anaconda3/lib/python3.10/site-packages (from pyarrow->pygwalker) (1.23.5)\n",
      "Requirement already satisfied: pydantic-core==2.4.0 in /Users/nico/anaconda3/lib/python3.10/site-packages (from pydantic->pygwalker) (2.4.0)\n",
      "Requirement already satisfied: annotated-types>=0.4.0 in /Users/nico/anaconda3/lib/python3.10/site-packages (from pydantic->pygwalker) (0.5.0)\n",
      "Requirement already satisfied: certifi>=2017.4.17 in /Users/nico/anaconda3/lib/python3.10/site-packages (from requests->pygwalker) (2023.7.22)\n",
      "Requirement already satisfied: urllib3<1.27,>=1.21.1 in /Users/nico/anaconda3/lib/python3.10/site-packages (from requests->pygwalker) (1.26.14)\n",
      "Requirement already satisfied: charset-normalizer<3,>=2 in /Users/nico/anaconda3/lib/python3.10/site-packages (from requests->pygwalker) (2.0.4)\n",
      "Requirement already satisfied: idna<4,>=2.5 in /Users/nico/anaconda3/lib/python3.10/site-packages (from requests->pygwalker) (3.4)\n",
      "Requirement already satisfied: debugpy>=1.0 in /Users/nico/anaconda3/lib/python3.10/site-packages (from ipykernel>=4.5.1->ipywidgets->pygwalker) (1.5.1)\n",
      "Requirement already satisfied: jupyter-client>=6.1.12 in /Users/nico/anaconda3/lib/python3.10/site-packages (from ipykernel>=4.5.1->ipywidgets->pygwalker) (7.3.4)\n",
      "Requirement already satisfied: nest-asyncio in /Users/nico/anaconda3/lib/python3.10/site-packages (from ipykernel>=4.5.1->ipywidgets->pygwalker) (1.5.6)\n",
      "Requirement already satisfied: tornado>=6.1 in /Users/nico/anaconda3/lib/python3.10/site-packages (from ipykernel>=4.5.1->ipywidgets->pygwalker) (6.1)\n",
      "Requirement already satisfied: packaging in /Users/nico/anaconda3/lib/python3.10/site-packages (from ipykernel>=4.5.1->ipywidgets->pygwalker) (22.0)\n",
      "Requirement already satisfied: comm>=0.1.1 in /Users/nico/anaconda3/lib/python3.10/site-packages (from ipykernel>=4.5.1->ipywidgets->pygwalker) (0.1.2)\n",
      "Requirement already satisfied: pyzmq>=17 in /Users/nico/anaconda3/lib/python3.10/site-packages (from ipykernel>=4.5.1->ipywidgets->pygwalker) (23.2.0)\n",
      "Requirement already satisfied: parso<0.9.0,>=0.8.0 in /Users/nico/anaconda3/lib/python3.10/site-packages (from jedi>=0.16->ipython->pygwalker) (0.8.3)\n",
      "Requirement already satisfied: fastjsonschema in /Users/nico/anaconda3/lib/python3.10/site-packages (from nbformat>=4.2.0->ipywidgets->pygwalker) (2.16.2)\n",
      "Requirement already satisfied: jupyter-core in /Users/nico/anaconda3/lib/python3.10/site-packages (from nbformat>=4.2.0->ipywidgets->pygwalker) (5.2.0)\n",
      "Requirement already satisfied: jsonschema>=2.6 in /Users/nico/anaconda3/lib/python3.10/site-packages (from nbformat>=4.2.0->ipywidgets->pygwalker) (4.17.3)\n",
      "Requirement already satisfied: ptyprocess>=0.5 in /Users/nico/anaconda3/lib/python3.10/site-packages (from pexpect>4.3->ipython->pygwalker) (0.7.0)\n",
      "Requirement already satisfied: wcwidth in /Users/nico/anaconda3/lib/python3.10/site-packages (from prompt-toolkit<3.1.0,>=3.0.30->ipython->pygwalker) (0.2.5)\n",
      "Requirement already satisfied: notebook>=4.4.1 in /Users/nico/anaconda3/lib/python3.10/site-packages (from widgetsnbextension~=3.5.0->ipywidgets->pygwalker) (6.5.2)\n",
      "Requirement already satisfied: pure-eval in /Users/nico/anaconda3/lib/python3.10/site-packages (from stack-data->ipython->pygwalker) (0.2.2)\n",
      "Requirement already satisfied: asttokens in /Users/nico/anaconda3/lib/python3.10/site-packages (from stack-data->ipython->pygwalker) (2.0.5)\n",
      "Requirement already satisfied: executing in /Users/nico/anaconda3/lib/python3.10/site-packages (from stack-data->ipython->pygwalker) (0.8.3)\n",
      "Requirement already satisfied: attrs>=17.4.0 in /Users/nico/anaconda3/lib/python3.10/site-packages (from jsonschema>=2.6->nbformat>=4.2.0->ipywidgets->pygwalker) (22.1.0)\n",
      "Requirement already satisfied: pyrsistent!=0.17.0,!=0.17.1,!=0.17.2,>=0.14.0 in /Users/nico/anaconda3/lib/python3.10/site-packages (from jsonschema>=2.6->nbformat>=4.2.0->ipywidgets->pygwalker) (0.18.0)\n",
      "Requirement already satisfied: python-dateutil>=2.8.2 in /Users/nico/anaconda3/lib/python3.10/site-packages (from jupyter-client>=6.1.12->ipykernel>=4.5.1->ipywidgets->pygwalker) (2.8.2)\n",
      "Requirement already satisfied: entrypoints in /Users/nico/anaconda3/lib/python3.10/site-packages (from jupyter-client>=6.1.12->ipykernel>=4.5.1->ipywidgets->pygwalker) (0.4)\n",
      "Requirement already satisfied: platformdirs>=2.5 in /Users/nico/anaconda3/lib/python3.10/site-packages (from jupyter-core->nbformat>=4.2.0->ipywidgets->pygwalker) (2.5.2)\n"
     ]
    },
    {
     "name": "stdout",
     "output_type": "stream",
     "text": [
      "Requirement already satisfied: argon2-cffi in /Users/nico/anaconda3/lib/python3.10/site-packages (from notebook>=4.4.1->widgetsnbextension~=3.5.0->ipywidgets->pygwalker) (21.3.0)\n",
      "Requirement already satisfied: prometheus-client in /Users/nico/anaconda3/lib/python3.10/site-packages (from notebook>=4.4.1->widgetsnbextension~=3.5.0->ipywidgets->pygwalker) (0.14.1)\n",
      "Requirement already satisfied: nbconvert>=5 in /Users/nico/anaconda3/lib/python3.10/site-packages (from notebook>=4.4.1->widgetsnbextension~=3.5.0->ipywidgets->pygwalker) (6.5.4)\n",
      "Requirement already satisfied: Send2Trash>=1.8.0 in /Users/nico/anaconda3/lib/python3.10/site-packages (from notebook>=4.4.1->widgetsnbextension~=3.5.0->ipywidgets->pygwalker) (1.8.0)\n",
      "Requirement already satisfied: nbclassic>=0.4.7 in /Users/nico/anaconda3/lib/python3.10/site-packages (from notebook>=4.4.1->widgetsnbextension~=3.5.0->ipywidgets->pygwalker) (0.5.2)\n",
      "Requirement already satisfied: terminado>=0.8.3 in /Users/nico/anaconda3/lib/python3.10/site-packages (from notebook>=4.4.1->widgetsnbextension~=3.5.0->ipywidgets->pygwalker) (0.17.1)\n",
      "Requirement already satisfied: six in /Users/nico/anaconda3/lib/python3.10/site-packages (from asttokens->stack-data->ipython->pygwalker) (1.16.0)\n",
      "Requirement already satisfied: notebook-shim>=0.1.0 in /Users/nico/anaconda3/lib/python3.10/site-packages (from nbclassic>=0.4.7->notebook>=4.4.1->widgetsnbextension~=3.5.0->ipywidgets->pygwalker) (0.2.2)\n",
      "Requirement already satisfied: jupyter-server>=1.8 in /Users/nico/anaconda3/lib/python3.10/site-packages (from nbclassic>=0.4.7->notebook>=4.4.1->widgetsnbextension~=3.5.0->ipywidgets->pygwalker) (1.23.4)\n",
      "Requirement already satisfied: defusedxml in /Users/nico/anaconda3/lib/python3.10/site-packages (from nbconvert>=5->notebook>=4.4.1->widgetsnbextension~=3.5.0->ipywidgets->pygwalker) (0.7.1)\n",
      "Requirement already satisfied: tinycss2 in /Users/nico/anaconda3/lib/python3.10/site-packages (from nbconvert>=5->notebook>=4.4.1->widgetsnbextension~=3.5.0->ipywidgets->pygwalker) (1.2.1)\n",
      "Requirement already satisfied: bleach in /Users/nico/anaconda3/lib/python3.10/site-packages (from nbconvert>=5->notebook>=4.4.1->widgetsnbextension~=3.5.0->ipywidgets->pygwalker) (4.1.0)\n",
      "Requirement already satisfied: mistune<2,>=0.8.1 in /Users/nico/anaconda3/lib/python3.10/site-packages (from nbconvert>=5->notebook>=4.4.1->widgetsnbextension~=3.5.0->ipywidgets->pygwalker) (0.8.4)\n",
      "Requirement already satisfied: lxml in /Users/nico/anaconda3/lib/python3.10/site-packages (from nbconvert>=5->notebook>=4.4.1->widgetsnbextension~=3.5.0->ipywidgets->pygwalker) (4.9.1)\n",
      "Requirement already satisfied: nbclient>=0.5.0 in /Users/nico/anaconda3/lib/python3.10/site-packages (from nbconvert>=5->notebook>=4.4.1->widgetsnbextension~=3.5.0->ipywidgets->pygwalker) (0.5.13)\n",
      "Requirement already satisfied: jupyterlab-pygments in /Users/nico/anaconda3/lib/python3.10/site-packages (from nbconvert>=5->notebook>=4.4.1->widgetsnbextension~=3.5.0->ipywidgets->pygwalker) (0.1.2)\n",
      "Requirement already satisfied: pandocfilters>=1.4.1 in /Users/nico/anaconda3/lib/python3.10/site-packages (from nbconvert>=5->notebook>=4.4.1->widgetsnbextension~=3.5.0->ipywidgets->pygwalker) (1.5.0)\n",
      "Requirement already satisfied: beautifulsoup4 in /Users/nico/anaconda3/lib/python3.10/site-packages (from nbconvert>=5->notebook>=4.4.1->widgetsnbextension~=3.5.0->ipywidgets->pygwalker) (4.11.1)\n",
      "Requirement already satisfied: argon2-cffi-bindings in /Users/nico/anaconda3/lib/python3.10/site-packages (from argon2-cffi->notebook>=4.4.1->widgetsnbextension~=3.5.0->ipywidgets->pygwalker) (21.2.0)\n",
      "Requirement already satisfied: websocket-client in /Users/nico/anaconda3/lib/python3.10/site-packages (from jupyter-server>=1.8->nbclassic>=0.4.7->notebook>=4.4.1->widgetsnbextension~=3.5.0->ipywidgets->pygwalker) (0.58.0)\n",
      "Requirement already satisfied: anyio<4,>=3.1.0 in /Users/nico/anaconda3/lib/python3.10/site-packages (from jupyter-server>=1.8->nbclassic>=0.4.7->notebook>=4.4.1->widgetsnbextension~=3.5.0->ipywidgets->pygwalker) (3.5.0)\n",
      "Requirement already satisfied: cffi>=1.0.1 in /Users/nico/anaconda3/lib/python3.10/site-packages (from argon2-cffi-bindings->argon2-cffi->notebook>=4.4.1->widgetsnbextension~=3.5.0->ipywidgets->pygwalker) (1.15.1)\n",
      "Requirement already satisfied: soupsieve>1.2 in /Users/nico/anaconda3/lib/python3.10/site-packages (from beautifulsoup4->nbconvert>=5->notebook>=4.4.1->widgetsnbextension~=3.5.0->ipywidgets->pygwalker) (2.3.2.post1)\n",
      "Requirement already satisfied: webencodings in /Users/nico/anaconda3/lib/python3.10/site-packages (from bleach->nbconvert>=5->notebook>=4.4.1->widgetsnbextension~=3.5.0->ipywidgets->pygwalker) (0.5.1)\n",
      "Requirement already satisfied: sniffio>=1.1 in /Users/nico/anaconda3/lib/python3.10/site-packages (from anyio<4,>=3.1.0->jupyter-server>=1.8->nbclassic>=0.4.7->notebook>=4.4.1->widgetsnbextension~=3.5.0->ipywidgets->pygwalker) (1.2.0)\n",
      "Requirement already satisfied: pycparser in /Users/nico/anaconda3/lib/python3.10/site-packages (from cffi>=1.0.1->argon2-cffi-bindings->argon2-cffi->notebook>=4.4.1->widgetsnbextension~=3.5.0->ipywidgets->pygwalker) (2.21)\n",
      "Installing collected packages: sqlglot, duckdb, astor, pygwalker\n",
      "Successfully installed astor-0.8.1 duckdb-0.8.1 pygwalker-0.3.4 sqlglot-18.0.1\n",
      "Note: you may need to restart the kernel to use updated packages.\n"
     ]
    }
   ],
   "source": [
    "%pip install pygwalker\n"
   ]
  },
  {
   "cell_type": "code",
   "execution_count": 17,
   "id": "a45fa999",
   "metadata": {},
   "outputs": [
    {
     "data": {
      "text/plain": [
       "array([21723, 14559])"
      ]
     },
     "execution_count": 17,
     "metadata": {},
     "output_type": "execute_result"
    }
   ],
   "source": [
    "cars[\"electric_vehicle_type\"].value_counts().values"
   ]
  },
  {
   "cell_type": "code",
   "execution_count": 1,
   "id": "bab8b1a2",
   "metadata": {},
   "outputs": [],
   "source": [
    "import pygwalker as pyg"
   ]
  },
  {
   "cell_type": "code",
   "execution_count": 8,
   "id": "0b026cde",
   "metadata": {},
   "outputs": [
    {
     "data": {
      "text/html": [],
      "text/plain": [
       "<IPython.core.display.HTML object>"
      ]
     },
     "metadata": {},
     "output_type": "display_data"
    },
    {
     "data": {
      "application/vnd.jupyter.widget-view+json": {
       "model_id": "af2e9c8d16dd4b778788a4fdefe139df",
       "version_major": 2,
       "version_minor": 0
      },
      "text/plain": [
       "Box(children=(HTML(value='<div id=\"ifr-pyg-1\" style=\"height: auto\">\\n    <head>\\n        <meta http-equiv=\"Con…"
      ]
     },
     "metadata": {},
     "output_type": "display_data"
    },
    {
     "data": {
      "text/html": [
       "<html>\n",
       "<style>\n",
       ".tabs{\n",
       "    position:relative;\n",
       "    height:660px;\n",
       "}\n",
       ".tab-pane{\n",
       "    display:inline-block;\n",
       "}\n",
       ".tabs input[type='radio']{\n",
       "    position:absolute;\n",
       "    clip:rect(0,0,0,0)\n",
       "}\n",
       ".tab-item{\n",
       "    display:block;\n",
       "    height:34px;\n",
       "    line-height:34px;\n",
       "    cursor:pointer;\n",
       "    padding:0 10px\n",
       "}\n",
       "\n",
       ".tabs input[type='radio']:checked+.tab-item{\n",
       "    background:#2563eb;\n",
       "    color:#fff\n",
       "}\n",
       "\n",
       ".tab-content{\n",
       "    display: none;\n",
       "    position:absolute;\n",
       "    left:0;\n",
       "    top:56px;\n",
       "    bottom:0;\n",
       "    right:0;\n",
       "}\n",
       "\n",
       ".tabs input[type='radio']:checked+.tab-item+.tab-content{\n",
       "    display: block;\n",
       "}\n",
       "</style>\n",
       "\n",
       "<body>\n",
       "    <div id=\"pygwalker-preview-1\">\n",
       "        <div class=\"tabs\">\n",
       "            \n",
       "        </div>\n",
       "    </div>\n",
       "</body>\n",
       "</html>"
      ],
      "text/plain": [
       "<IPython.core.display.HTML object>"
      ]
     },
     "metadata": {},
     "output_type": "display_data"
    },
    {
     "data": {
      "text/plain": [
       "<pygwalker.api.pygwalker.PygWalker at 0x7fe3c3d4d360>"
      ]
     },
     "execution_count": 8,
     "metadata": {},
     "output_type": "execute_result"
    }
   ],
   "source": [
    "pyg.walk(cars)"
   ]
  },
  {
   "cell_type": "code",
   "execution_count": 12,
   "id": "9fcd621d",
   "metadata": {},
   "outputs": [
    {
     "data": {
      "text/plain": [
       "21723"
      ]
     },
     "execution_count": 12,
     "metadata": {},
     "output_type": "execute_result"
    }
   ],
   "source": [
    "len(cars[cars['electric_vehicle_type']=='Plug-in Hybrid'])\n",
    "len(cars[cars['electric_vehicle_type']=='Electric'])"
   ]
  },
  {
   "cell_type": "code",
   "execution_count": 23,
   "id": "7e50abec",
   "metadata": {},
   "outputs": [
    {
     "data": {
      "text/html": [
       "<div>\n",
       "<style scoped>\n",
       "    .dataframe tbody tr th:only-of-type {\n",
       "        vertical-align: middle;\n",
       "    }\n",
       "\n",
       "    .dataframe tbody tr th {\n",
       "        vertical-align: top;\n",
       "    }\n",
       "\n",
       "    .dataframe thead th {\n",
       "        text-align: right;\n",
       "    }\n",
       "</style>\n",
       "<table border=\"1\" class=\"dataframe\">\n",
       "  <thead>\n",
       "    <tr style=\"text-align: right;\">\n",
       "      <th></th>\n",
       "      <th>Unnamed: 0</th>\n",
       "      <th>county</th>\n",
       "      <th>city</th>\n",
       "      <th>state</th>\n",
       "      <th>postal_code</th>\n",
       "      <th>model_year</th>\n",
       "      <th>make</th>\n",
       "      <th>model</th>\n",
       "      <th>cafv_eligibilaty</th>\n",
       "      <th>electric_range</th>\n",
       "      <th>vehicle_location</th>\n",
       "      <th>electric_utility</th>\n",
       "      <th>latitude</th>\n",
       "      <th>longitude</th>\n",
       "    </tr>\n",
       "    <tr>\n",
       "      <th>electric_vehicle_type</th>\n",
       "      <th></th>\n",
       "      <th></th>\n",
       "      <th></th>\n",
       "      <th></th>\n",
       "      <th></th>\n",
       "      <th></th>\n",
       "      <th></th>\n",
       "      <th></th>\n",
       "      <th></th>\n",
       "      <th></th>\n",
       "      <th></th>\n",
       "      <th></th>\n",
       "      <th></th>\n",
       "      <th></th>\n",
       "    </tr>\n",
       "  </thead>\n",
       "  <tbody>\n",
       "    <tr>\n",
       "      <th>Electric</th>\n",
       "      <td>21723</td>\n",
       "      <td>21723</td>\n",
       "      <td>21723</td>\n",
       "      <td>21723</td>\n",
       "      <td>21723</td>\n",
       "      <td>21723</td>\n",
       "      <td>21723</td>\n",
       "      <td>21723</td>\n",
       "      <td>21723</td>\n",
       "      <td>21723</td>\n",
       "      <td>21723</td>\n",
       "      <td>21723</td>\n",
       "      <td>21723</td>\n",
       "      <td>21723</td>\n",
       "    </tr>\n",
       "    <tr>\n",
       "      <th>Plug-in Hybrid</th>\n",
       "      <td>14559</td>\n",
       "      <td>14559</td>\n",
       "      <td>14559</td>\n",
       "      <td>14559</td>\n",
       "      <td>14559</td>\n",
       "      <td>14559</td>\n",
       "      <td>14559</td>\n",
       "      <td>14559</td>\n",
       "      <td>14559</td>\n",
       "      <td>14559</td>\n",
       "      <td>14559</td>\n",
       "      <td>14559</td>\n",
       "      <td>14559</td>\n",
       "      <td>14559</td>\n",
       "    </tr>\n",
       "  </tbody>\n",
       "</table>\n",
       "</div>"
      ],
      "text/plain": [
       "                       Unnamed: 0  county   city  state  postal_code  \\\n",
       "electric_vehicle_type                                                  \n",
       "Electric                    21723   21723  21723  21723        21723   \n",
       "Plug-in Hybrid              14559   14559  14559  14559        14559   \n",
       "\n",
       "                       model_year   make  model  cafv_eligibilaty  \\\n",
       "electric_vehicle_type                                               \n",
       "Electric                    21723  21723  21723             21723   \n",
       "Plug-in Hybrid              14559  14559  14559             14559   \n",
       "\n",
       "                       electric_range  vehicle_location  electric_utility  \\\n",
       "electric_vehicle_type                                                       \n",
       "Electric                        21723             21723             21723   \n",
       "Plug-in Hybrid                  14559             14559             14559   \n",
       "\n",
       "                       latitude  longitude  \n",
       "electric_vehicle_type                       \n",
       "Electric                  21723      21723  \n",
       "Plug-in Hybrid            14559      14559  "
      ]
     },
     "execution_count": 23,
     "metadata": {},
     "output_type": "execute_result"
    }
   ],
   "source": [
    "cars.groupby(\"electric_vehicle_type\").count()"
   ]
  },
  {
   "cell_type": "code",
   "execution_count": 62,
   "id": "91d9f02b",
   "metadata": {},
   "outputs": [],
   "source": [
    "lop = len(cars[(cars['model_year']<= 2012) & (cars['electric_vehicle_type']== 'Electric') ])"
   ]
  },
  {
   "cell_type": "code",
   "execution_count": 63,
   "id": "bd89a72c",
   "metadata": {},
   "outputs": [
    {
     "data": {
      "text/plain": [
       "2884.895104895105"
      ]
     },
     "execution_count": 63,
     "metadata": {},
     "output_type": "execute_result"
    }
   ],
   "source": [
    "lep = len(cars[(cars['model_year']<= 2022) & (cars['model_year'] >= 2010) & (cars['electric_vehicle_type']== 'Electric') ])\n",
    "lep/lop * 100"
   ]
  },
  {
   "cell_type": "code",
   "execution_count": 64,
   "id": "c452489c",
   "metadata": {},
   "outputs": [],
   "source": [
    "lip = len(cars[(cars['model_year']<= 2012) & (cars['electric_vehicle_type']== 'Plug-in Hybrid') ])"
   ]
  },
  {
   "cell_type": "code",
   "execution_count": 65,
   "id": "376f6129",
   "metadata": {},
   "outputs": [],
   "source": [
    "lup = len(cars[(cars['model_year']<= 2022) & (cars['model_year'] >= 2010) & (cars['electric_vehicle_type']== 'Plug-in Hybrid') ])"
   ]
  },
  {
   "cell_type": "code",
   "execution_count": 67,
   "id": "398ae9c5",
   "metadata": {},
   "outputs": [
    {
     "data": {
      "text/plain": [
       "2738.3018867924525"
      ]
     },
     "execution_count": 67,
     "metadata": {},
     "output_type": "execute_result"
    }
   ],
   "source": [
    "lup/lip * 100"
   ]
  },
  {
   "cell_type": "code",
   "execution_count": 20,
   "id": "d4426d76",
   "metadata": {},
   "outputs": [],
   "source": [
    "st.markdown('### Bar Plot')\n",
    "plost.bar_chart(data=cars  ,bar='electric_vehicle_type',value= 'electric_vehicle_type')"
   ]
  },
  {
   "cell_type": "code",
   "execution_count": 33,
   "id": "ed18d1dc",
   "metadata": {},
   "outputs": [
    {
     "data": {
      "text/plain": [
       "Electric          21723\n",
       "Plug-in Hybrid    14559\n",
       "Name: electric_vehicle_type, dtype: int64"
      ]
     },
     "execution_count": 33,
     "metadata": {},
     "output_type": "execute_result"
    }
   ],
   "source": [
    "cars['electric_vehicle_type'].value_counts()"
   ]
  },
  {
   "cell_type": "code",
   "execution_count": 68,
   "id": "875be036",
   "metadata": {},
   "outputs": [
    {
     "data": {
      "text/html": [
       "<div>\n",
       "<style scoped>\n",
       "    .dataframe tbody tr th:only-of-type {\n",
       "        vertical-align: middle;\n",
       "    }\n",
       "\n",
       "    .dataframe tbody tr th {\n",
       "        vertical-align: top;\n",
       "    }\n",
       "\n",
       "    .dataframe thead th {\n",
       "        text-align: right;\n",
       "    }\n",
       "</style>\n",
       "<table border=\"1\" class=\"dataframe\">\n",
       "  <thead>\n",
       "    <tr style=\"text-align: right;\">\n",
       "      <th></th>\n",
       "      <th>Make</th>\n",
       "      <th>model</th>\n",
       "      <th>price</th>\n",
       "    </tr>\n",
       "  </thead>\n",
       "  <tbody>\n",
       "    <tr>\n",
       "      <th>0</th>\n",
       "      <td>Average</td>\n",
       "      <td>NaN</td>\n",
       "      <td>61354</td>\n",
       "    </tr>\n",
       "    <tr>\n",
       "      <th>1</th>\n",
       "      <td>BYD</td>\n",
       "      <td>DOLPHIN</td>\n",
       "      <td>26000</td>\n",
       "    </tr>\n",
       "    <tr>\n",
       "      <th>2</th>\n",
       "      <td>MG</td>\n",
       "      <td>MG4</td>\n",
       "      <td>26995</td>\n",
       "    </tr>\n",
       "    <tr>\n",
       "      <th>3</th>\n",
       "      <td>Fiat</td>\n",
       "      <td>500e</td>\n",
       "      <td>28195</td>\n",
       "    </tr>\n",
       "    <tr>\n",
       "      <th>4</th>\n",
       "      <td>BYD</td>\n",
       "      <td>DOLPHIN</td>\n",
       "      <td>28500</td>\n",
       "    </tr>\n",
       "    <tr>\n",
       "      <th>...</th>\n",
       "      <td>...</td>\n",
       "      <td>...</td>\n",
       "      <td>...</td>\n",
       "    </tr>\n",
       "    <tr>\n",
       "      <th>205</th>\n",
       "      <td>Porsche</td>\n",
       "      <td>Taycan</td>\n",
       "      <td>149300</td>\n",
       "    </tr>\n",
       "    <tr>\n",
       "      <th>206</th>\n",
       "      <td>Mercedes</td>\n",
       "      <td>EQS</td>\n",
       "      <td>161860</td>\n",
       "    </tr>\n",
       "    <tr>\n",
       "      <th>207</th>\n",
       "      <td>BMW</td>\n",
       "      <td>i7</td>\n",
       "      <td>163315</td>\n",
       "    </tr>\n",
       "    <tr>\n",
       "      <th>208</th>\n",
       "      <td>Maserati</td>\n",
       "      <td>GranTurismo</td>\n",
       "      <td>200000</td>\n",
       "    </tr>\n",
       "    <tr>\n",
       "      <th>209</th>\n",
       "      <td>Rolls-Royce</td>\n",
       "      <td>Spectre</td>\n",
       "      <td>350000</td>\n",
       "    </tr>\n",
       "  </tbody>\n",
       "</table>\n",
       "<p>210 rows × 3 columns</p>\n",
       "</div>"
      ],
      "text/plain": [
       "            Make        model   price\n",
       "0        Average          NaN   61354\n",
       "1            BYD      DOLPHIN   26000\n",
       "2             MG          MG4   26995\n",
       "3           Fiat         500e   28195\n",
       "4            BYD      DOLPHIN   28500\n",
       "..           ...          ...     ...\n",
       "205      Porsche       Taycan  149300\n",
       "206     Mercedes          EQS  161860\n",
       "207          BMW           i7  163315\n",
       "208     Maserati  GranTurismo  200000\n",
       "209  Rolls-Royce      Spectre  350000\n",
       "\n",
       "[210 rows x 3 columns]"
      ]
     },
     "execution_count": 68,
     "metadata": {},
     "output_type": "execute_result"
    }
   ],
   "source": [
    "price"
   ]
  },
  {
   "cell_type": "code",
   "execution_count": 8,
   "id": "c3ce7454",
   "metadata": {},
   "outputs": [],
   "source": [
    "lep = cars.groupby('model')['city'].count()"
   ]
  },
  {
   "cell_type": "code",
   "execution_count": 10,
   "id": "5928553d",
   "metadata": {},
   "outputs": [
    {
     "data": {
      "text/html": [
       "<div>\n",
       "<style scoped>\n",
       "    .dataframe tbody tr th:only-of-type {\n",
       "        vertical-align: middle;\n",
       "    }\n",
       "\n",
       "    .dataframe tbody tr th {\n",
       "        vertical-align: top;\n",
       "    }\n",
       "\n",
       "    .dataframe thead th {\n",
       "        text-align: right;\n",
       "    }\n",
       "</style>\n",
       "<table border=\"1\" class=\"dataframe\">\n",
       "  <thead>\n",
       "    <tr style=\"text-align: right;\">\n",
       "      <th></th>\n",
       "      <th>labels</th>\n",
       "      <th>size</th>\n",
       "    </tr>\n",
       "  </thead>\n",
       "  <tbody>\n",
       "    <tr>\n",
       "      <th>0</th>\n",
       "      <td>330E</td>\n",
       "      <td>228</td>\n",
       "    </tr>\n",
       "    <tr>\n",
       "      <th>1</th>\n",
       "      <td>500</td>\n",
       "      <td>548</td>\n",
       "    </tr>\n",
       "    <tr>\n",
       "      <th>2</th>\n",
       "      <td>530E</td>\n",
       "      <td>262</td>\n",
       "    </tr>\n",
       "    <tr>\n",
       "      <th>3</th>\n",
       "      <td>740E</td>\n",
       "      <td>28</td>\n",
       "    </tr>\n",
       "    <tr>\n",
       "      <th>4</th>\n",
       "      <td>745E</td>\n",
       "      <td>7</td>\n",
       "    </tr>\n",
       "    <tr>\n",
       "      <th>...</th>\n",
       "      <td>...</td>\n",
       "      <td>...</td>\n",
       "    </tr>\n",
       "    <tr>\n",
       "      <th>109</th>\n",
       "      <td>X3</td>\n",
       "      <td>153</td>\n",
       "    </tr>\n",
       "    <tr>\n",
       "      <th>110</th>\n",
       "      <td>X5</td>\n",
       "      <td>665</td>\n",
       "    </tr>\n",
       "    <tr>\n",
       "      <th>111</th>\n",
       "      <td>XC40</td>\n",
       "      <td>247</td>\n",
       "    </tr>\n",
       "    <tr>\n",
       "      <th>112</th>\n",
       "      <td>XC60</td>\n",
       "      <td>488</td>\n",
       "    </tr>\n",
       "    <tr>\n",
       "      <th>113</th>\n",
       "      <td>XC90</td>\n",
       "      <td>532</td>\n",
       "    </tr>\n",
       "  </tbody>\n",
       "</table>\n",
       "<p>114 rows × 2 columns</p>\n",
       "</div>"
      ],
      "text/plain": [
       "    labels  size\n",
       "0     330E   228\n",
       "1      500   548\n",
       "2     530E   262\n",
       "3     740E    28\n",
       "4     745E     7\n",
       "..     ...   ...\n",
       "109     X3   153\n",
       "110     X5   665\n",
       "111   XC40   247\n",
       "112   XC60   488\n",
       "113   XC90   532\n",
       "\n",
       "[114 rows x 2 columns]"
      ]
     },
     "execution_count": 10,
     "metadata": {},
     "output_type": "execute_result"
    }
   ],
   "source": [
    "lop = pd.DataFrame({'labels':lep.index,'size': lep.values})\n",
    "lop"
   ]
  },
  {
   "cell_type": "code",
   "execution_count": 20,
   "id": "5b12dc5a",
   "metadata": {},
   "outputs": [
    {
     "data": {
      "application/vnd.plotly.v1+json": {
       "config": {
        "plotlyServerURL": "https://plot.ly"
       },
       "data": [
        {
         "branchvalues": "total",
         "domain": {
          "x": [
           0,
           1
          ],
          "y": [
           0,
           1
          ]
         },
         "hovertemplate": "<b>%{label}</b><br>Size: %{value}",
         "ids": [
          "330E",
          "500",
          "530E",
          "740E",
          "745E",
          "745LE",
          "918",
          "A3",
          "A7",
          "A8 E",
          "ACCORD",
          "AVIATOR",
          "B-CLASS",
          "BENTAYGA",
          "BOLT EUV",
          "BOLT EV",
          "C-CLASS",
          "C-MAX",
          "C40",
          "CAYENNE",
          "CITY",
          "CLARITY",
          "CORSAIR",
          "COUNTRYMAN",
          "CROSSTREK",
          "CT6",
          "E-GOLF",
          "E-TRON",
          "E-TRON GT",
          "E-TRON SPORTBACK",
          "EDV",
          "ELR",
          "EQ FORTWO",
          "EQB-CLASS",
          "EQS-CLASS SEDAN",
          "EQS-CLASS SUV",
          "ESCAPE",
          "EV6",
          "F-150",
          "FLYING SPUR",
          "FOCUS",
          "FORTWO",
          "FORTWO ELECTRIC DRIVE",
          "FUSION",
          "G80",
          "GLC-CLASS",
          "GLE-CLASS",
          "GRAND CHEROKEE",
          "GV60",
          "HARDTOP",
          "I-MIEV",
          "I-PACE",
          "I3",
          "I4",
          "I8",
          "ID.4",
          "IONIQ",
          "IONIQ 5",
          "IX",
          "KARMA",
          "KONA",
          "KONA ELECTRIC",
          "LEAF",
          "LUCID AIR",
          "MODEL 3",
          "MODEL S",
          "MODEL X",
          "MODEL Y",
          "MUSTANG MACH-E",
          "NIRO",
          "NX",
          "OPTIMA",
          "OUTLANDER",
          "PACIFICA",
          "PANAMERA",
          "PRIUS PLUG-IN",
          "PRIUS PRIME",
          "PS2",
          "Q4",
          "Q5",
          "Q5 E",
          "R1S",
          "R1T",
          "RANGE ROVER",
          "RANGE ROVER SPORT",
          "RANGER",
          "RAV4",
          "RAV4 PRIME",
          "ROADSTER",
          "RS E-TRON GT",
          "S-10 PICKUP",
          "S-CLASS",
          "S60",
          "S90",
          "SANTA FE",
          "SOLTERRA",
          "SONATA",
          "SORENTO",
          "SOUL",
          "SOUL EV",
          "SPARK",
          "SPORTAGE",
          "TAYCAN",
          "TRANSIT",
          "TRANSIT CONNECT ELECTRIC",
          "TUCSON",
          "V60",
          "VOLT",
          "WRANGLER",
          "X3",
          "X5",
          "XC40",
          "XC60",
          "XC90"
         ],
         "labels": [
          "330E",
          "500",
          "530E",
          "740E",
          "745E",
          "745LE",
          "918",
          "A3",
          "A7",
          "A8 E",
          "ACCORD",
          "AVIATOR",
          "B-CLASS",
          "BENTAYGA",
          "BOLT EUV",
          "BOLT EV",
          "C-CLASS",
          "C-MAX",
          "C40",
          "CAYENNE",
          "CITY",
          "CLARITY",
          "CORSAIR",
          "COUNTRYMAN",
          "CROSSTREK",
          "CT6",
          "E-GOLF",
          "E-TRON",
          "E-TRON GT",
          "E-TRON SPORTBACK",
          "EDV",
          "ELR",
          "EQ FORTWO",
          "EQB-CLASS",
          "EQS-CLASS SEDAN",
          "EQS-CLASS SUV",
          "ESCAPE",
          "EV6",
          "F-150",
          "FLYING SPUR",
          "FOCUS",
          "FORTWO",
          "FORTWO ELECTRIC DRIVE",
          "FUSION",
          "G80",
          "GLC-CLASS",
          "GLE-CLASS",
          "GRAND CHEROKEE",
          "GV60",
          "HARDTOP",
          "I-MIEV",
          "I-PACE",
          "I3",
          "I4",
          "I8",
          "ID.4",
          "IONIQ",
          "IONIQ 5",
          "IX",
          "KARMA",
          "KONA",
          "KONA ELECTRIC",
          "LEAF",
          "LUCID AIR",
          "MODEL 3",
          "MODEL S",
          "MODEL X",
          "MODEL Y",
          "MUSTANG MACH-E",
          "NIRO",
          "NX",
          "OPTIMA",
          "OUTLANDER",
          "PACIFICA",
          "PANAMERA",
          "PRIUS PLUG-IN",
          "PRIUS PRIME",
          "PS2",
          "Q4",
          "Q5",
          "Q5 E",
          "R1S",
          "R1T",
          "RANGE ROVER",
          "RANGE ROVER SPORT",
          "RANGER",
          "RAV4",
          "RAV4 PRIME",
          "ROADSTER",
          "RS E-TRON GT",
          "S-10 PICKUP",
          "S-CLASS",
          "S60",
          "S90",
          "SANTA FE",
          "SOLTERRA",
          "SONATA",
          "SORENTO",
          "SOUL",
          "SOUL EV",
          "SPARK",
          "SPORTAGE",
          "TAYCAN",
          "TRANSIT",
          "TRANSIT CONNECT ELECTRIC",
          "TUCSON",
          "V60",
          "VOLT",
          "WRANGLER",
          "X3",
          "X5",
          "XC40",
          "XC60",
          "XC90"
         ],
         "name": "",
         "parents": [
          "",
          "",
          "",
          "",
          "",
          "",
          "",
          "",
          "",
          "",
          "",
          "",
          "",
          "",
          "",
          "",
          "",
          "",
          "",
          "",
          "",
          "",
          "",
          "",
          "",
          "",
          "",
          "",
          "",
          "",
          "",
          "",
          "",
          "",
          "",
          "",
          "",
          "",
          "",
          "",
          "",
          "",
          "",
          "",
          "",
          "",
          "",
          "",
          "",
          "",
          "",
          "",
          "",
          "",
          "",
          "",
          "",
          "",
          "",
          "",
          "",
          "",
          "",
          "",
          "",
          "",
          "",
          "",
          "",
          "",
          "",
          "",
          "",
          "",
          "",
          "",
          "",
          "",
          "",
          "",
          "",
          "",
          "",
          "",
          "",
          "",
          "",
          "",
          "",
          "",
          "",
          "",
          "",
          "",
          "",
          "",
          "",
          "",
          "",
          "",
          "",
          "",
          "",
          "",
          "",
          "",
          "",
          "",
          "",
          "",
          "",
          "",
          "",
          ""
         ],
         "type": "treemap",
         "values": [
          228,
          548,
          262,
          28,
          7,
          2,
          1,
          295,
          10,
          3,
          9,
          111,
          88,
          2,
          100,
          1653,
          21,
          904,
          88,
          225,
          3,
          378,
          43,
          159,
          45,
          31,
          495,
          439,
          55,
          137,
          5,
          65,
          47,
          33,
          63,
          20,
          170,
          316,
          125,
          1,
          217,
          54,
          136,
          1126,
          5,
          127,
          41,
          38,
          12,
          274,
          59,
          165,
          1179,
          104,
          94,
          512,
          175,
          295,
          108,
          18,
          148,
          206,
          3391,
          55,
          2782,
          2437,
          1528,
          1463,
          548,
          1112,
          29,
          94,
          288,
          835,
          111,
          538,
          1069,
          286,
          50,
          104,
          263,
          29,
          234,
          13,
          23,
          12,
          56,
          411,
          50,
          16,
          1,
          10,
          73,
          23,
          57,
          1,
          73,
          184,
          205,
          174,
          205,
          38,
          274,
          53,
          7,
          30,
          9,
          1997,
          648,
          153,
          665,
          247,
          488,
          532
         ]
        }
       ],
       "layout": {
        "font": {
         "size": 16
        },
        "legend": {
         "tracegroupgap": 0
        },
        "margin": {
         "b": 10,
         "l": 10,
         "r": 10,
         "t": 50
        },
        "template": {
         "data": {
          "candlestick": [
           {
            "decreasing": {
             "line": {
              "color": "#000033"
             }
            },
            "increasing": {
             "line": {
              "color": "#000032"
             }
            },
            "type": "candlestick"
           }
          ],
          "contour": [
           {
            "colorscale": [
             [
              0,
              "#000011"
             ],
             [
              0.1111111111111111,
              "#000012"
             ],
             [
              0.2222222222222222,
              "#000013"
             ],
             [
              0.3333333333333333,
              "#000014"
             ],
             [
              0.4444444444444444,
              "#000015"
             ],
             [
              0.5555555555555556,
              "#000016"
             ],
             [
              0.6666666666666666,
              "#000017"
             ],
             [
              0.7777777777777778,
              "#000018"
             ],
             [
              0.8888888888888888,
              "#000019"
             ],
             [
              1,
              "#000020"
             ]
            ],
            "type": "contour"
           }
          ],
          "contourcarpet": [
           {
            "colorscale": [
             [
              0,
              "#000011"
             ],
             [
              0.1111111111111111,
              "#000012"
             ],
             [
              0.2222222222222222,
              "#000013"
             ],
             [
              0.3333333333333333,
              "#000014"
             ],
             [
              0.4444444444444444,
              "#000015"
             ],
             [
              0.5555555555555556,
              "#000016"
             ],
             [
              0.6666666666666666,
              "#000017"
             ],
             [
              0.7777777777777778,
              "#000018"
             ],
             [
              0.8888888888888888,
              "#000019"
             ],
             [
              1,
              "#000020"
             ]
            ],
            "type": "contourcarpet"
           }
          ],
          "heatmap": [
           {
            "colorscale": [
             [
              0,
              "#000011"
             ],
             [
              0.1111111111111111,
              "#000012"
             ],
             [
              0.2222222222222222,
              "#000013"
             ],
             [
              0.3333333333333333,
              "#000014"
             ],
             [
              0.4444444444444444,
              "#000015"
             ],
             [
              0.5555555555555556,
              "#000016"
             ],
             [
              0.6666666666666666,
              "#000017"
             ],
             [
              0.7777777777777778,
              "#000018"
             ],
             [
              0.8888888888888888,
              "#000019"
             ],
             [
              1,
              "#000020"
             ]
            ],
            "type": "heatmap"
           }
          ],
          "histogram2d": [
           {
            "colorscale": [
             [
              0,
              "#000011"
             ],
             [
              0.1111111111111111,
              "#000012"
             ],
             [
              0.2222222222222222,
              "#000013"
             ],
             [
              0.3333333333333333,
              "#000014"
             ],
             [
              0.4444444444444444,
              "#000015"
             ],
             [
              0.5555555555555556,
              "#000016"
             ],
             [
              0.6666666666666666,
              "#000017"
             ],
             [
              0.7777777777777778,
              "#000018"
             ],
             [
              0.8888888888888888,
              "#000019"
             ],
             [
              1,
              "#000020"
             ]
            ],
            "type": "histogram2d"
           }
          ],
          "icicle": [
           {
            "textfont": {
             "color": "white"
            },
            "type": "icicle"
           }
          ],
          "sankey": [
           {
            "textfont": {
             "color": "#000036"
            },
            "type": "sankey"
           }
          ],
          "scatter": [
           {
            "marker": {
             "line": {
              "width": 0
             }
            },
            "type": "scatter"
           }
          ],
          "table": [
           {
            "cells": {
             "fill": {
              "color": "#000038"
             },
             "font": {
              "color": "#000037"
             },
             "line": {
              "color": "#000039"
             }
            },
            "header": {
             "fill": {
              "color": "#000040"
             },
             "font": {
              "color": "#000036"
             },
             "line": {
              "color": "#000039"
             }
            },
            "type": "table"
           }
          ],
          "waterfall": [
           {
            "connector": {
             "line": {
              "color": "#000036",
              "width": 2
             }
            },
            "decreasing": {
             "marker": {
              "color": "#000033"
             }
            },
            "increasing": {
             "marker": {
              "color": "#000032"
             }
            },
            "totals": {
             "marker": {
              "color": "#000034"
             }
            },
            "type": "waterfall"
           }
          ]
         },
         "layout": {
          "coloraxis": {
           "colorscale": [
            [
             0,
             "#000011"
            ],
            [
             0.1111111111111111,
             "#000012"
            ],
            [
             0.2222222222222222,
             "#000013"
            ],
            [
             0.3333333333333333,
             "#000014"
            ],
            [
             0.4444444444444444,
             "#000015"
            ],
            [
             0.5555555555555556,
             "#000016"
            ],
            [
             0.6666666666666666,
             "#000017"
            ],
            [
             0.7777777777777778,
             "#000018"
            ],
            [
             0.8888888888888888,
             "#000019"
            ],
            [
             1,
             "#000020"
            ]
           ]
          },
          "colorscale": {
           "diverging": [
            [
             0,
             "#000021"
            ],
            [
             0.1,
             "#000022"
            ],
            [
             0.2,
             "#000023"
            ],
            [
             0.3,
             "#000024"
            ],
            [
             0.4,
             "#000025"
            ],
            [
             0.5,
             "#000026"
            ],
            [
             0.6,
             "#000027"
            ],
            [
             0.7,
             "#000028"
            ],
            [
             0.8,
             "#000029"
            ],
            [
             0.9,
             "#000030"
            ],
            [
             1,
             "#000031"
            ]
           ],
           "sequential": [
            [
             0,
             "#000011"
            ],
            [
             0.1111111111111111,
             "#000012"
            ],
            [
             0.2222222222222222,
             "#000013"
            ],
            [
             0.3333333333333333,
             "#000014"
            ],
            [
             0.4444444444444444,
             "#000015"
            ],
            [
             0.5555555555555556,
             "#000016"
            ],
            [
             0.6666666666666666,
             "#000017"
            ],
            [
             0.7777777777777778,
             "#000018"
            ],
            [
             0.8888888888888888,
             "#000019"
            ],
            [
             1,
             "#000020"
            ]
           ],
           "sequentialminus": [
            [
             0,
             "#000011"
            ],
            [
             0.1111111111111111,
             "#000012"
            ],
            [
             0.2222222222222222,
             "#000013"
            ],
            [
             0.3333333333333333,
             "#000014"
            ],
            [
             0.4444444444444444,
             "#000015"
            ],
            [
             0.5555555555555556,
             "#000016"
            ],
            [
             0.6666666666666666,
             "#000017"
            ],
            [
             0.7777777777777778,
             "#000018"
            ],
            [
             0.8888888888888888,
             "#000019"
            ],
            [
             1,
             "#000020"
            ]
           ]
          },
          "colorway": [
           "#000001",
           "#000002",
           "#000003",
           "#000004",
           "#000005",
           "#000006",
           "#000007",
           "#000008",
           "#000009",
           "#000010"
          ]
         }
        },
        "title": {
         "text": "Car Models Distribution"
        },
        "treemapcolorway": [
         "#1f77b4",
         "#ff7f0e",
         "#2ca02c",
         "#d62728"
        ],
        "uniformtext": {
         "minsize": 12,
         "mode": "hide"
        }
       }
      },
      "text/html": [
       "<div>                            <div id=\"0896a0be-6c32-45dc-acc8-a8687d283537\" class=\"plotly-graph-div\" style=\"height:525px; width:100%;\"></div>            <script type=\"text/javascript\">                require([\"plotly\"], function(Plotly) {                    window.PLOTLYENV=window.PLOTLYENV || {};                                    if (document.getElementById(\"0896a0be-6c32-45dc-acc8-a8687d283537\")) {                    Plotly.newPlot(                        \"0896a0be-6c32-45dc-acc8-a8687d283537\",                        [{\"branchvalues\":\"total\",\"domain\":{\"x\":[0.0,1.0],\"y\":[0.0,1.0]},\"hovertemplate\":\"<b>%{label}</b><br>Size: %{value}\",\"ids\":[\"330E\",\"500\",\"530E\",\"740E\",\"745E\",\"745LE\",\"918\",\"A3\",\"A7\",\"A8 E\",\"ACCORD\",\"AVIATOR\",\"B-CLASS\",\"BENTAYGA\",\"BOLT EUV\",\"BOLT EV\",\"C-CLASS\",\"C-MAX\",\"C40\",\"CAYENNE\",\"CITY\",\"CLARITY\",\"CORSAIR\",\"COUNTRYMAN\",\"CROSSTREK\",\"CT6\",\"E-GOLF\",\"E-TRON\",\"E-TRON GT\",\"E-TRON SPORTBACK\",\"EDV\",\"ELR\",\"EQ FORTWO\",\"EQB-CLASS\",\"EQS-CLASS SEDAN\",\"EQS-CLASS SUV\",\"ESCAPE\",\"EV6\",\"F-150\",\"FLYING SPUR\",\"FOCUS\",\"FORTWO\",\"FORTWO ELECTRIC DRIVE\",\"FUSION\",\"G80\",\"GLC-CLASS\",\"GLE-CLASS\",\"GRAND CHEROKEE\",\"GV60\",\"HARDTOP\",\"I-MIEV\",\"I-PACE\",\"I3\",\"I4\",\"I8\",\"ID.4\",\"IONIQ\",\"IONIQ 5\",\"IX\",\"KARMA\",\"KONA\",\"KONA ELECTRIC\",\"LEAF\",\"LUCID AIR\",\"MODEL 3\",\"MODEL S\",\"MODEL X\",\"MODEL Y\",\"MUSTANG MACH-E\",\"NIRO\",\"NX\",\"OPTIMA\",\"OUTLANDER\",\"PACIFICA\",\"PANAMERA\",\"PRIUS PLUG-IN\",\"PRIUS PRIME\",\"PS2\",\"Q4\",\"Q5\",\"Q5 E\",\"R1S\",\"R1T\",\"RANGE ROVER\",\"RANGE ROVER SPORT\",\"RANGER\",\"RAV4\",\"RAV4 PRIME\",\"ROADSTER\",\"RS E-TRON GT\",\"S-10 PICKUP\",\"S-CLASS\",\"S60\",\"S90\",\"SANTA FE\",\"SOLTERRA\",\"SONATA\",\"SORENTO\",\"SOUL\",\"SOUL EV\",\"SPARK\",\"SPORTAGE\",\"TAYCAN\",\"TRANSIT\",\"TRANSIT CONNECT ELECTRIC\",\"TUCSON\",\"V60\",\"VOLT\",\"WRANGLER\",\"X3\",\"X5\",\"XC40\",\"XC60\",\"XC90\"],\"labels\":[\"330E\",\"500\",\"530E\",\"740E\",\"745E\",\"745LE\",\"918\",\"A3\",\"A7\",\"A8 E\",\"ACCORD\",\"AVIATOR\",\"B-CLASS\",\"BENTAYGA\",\"BOLT EUV\",\"BOLT EV\",\"C-CLASS\",\"C-MAX\",\"C40\",\"CAYENNE\",\"CITY\",\"CLARITY\",\"CORSAIR\",\"COUNTRYMAN\",\"CROSSTREK\",\"CT6\",\"E-GOLF\",\"E-TRON\",\"E-TRON GT\",\"E-TRON SPORTBACK\",\"EDV\",\"ELR\",\"EQ FORTWO\",\"EQB-CLASS\",\"EQS-CLASS SEDAN\",\"EQS-CLASS SUV\",\"ESCAPE\",\"EV6\",\"F-150\",\"FLYING SPUR\",\"FOCUS\",\"FORTWO\",\"FORTWO ELECTRIC DRIVE\",\"FUSION\",\"G80\",\"GLC-CLASS\",\"GLE-CLASS\",\"GRAND CHEROKEE\",\"GV60\",\"HARDTOP\",\"I-MIEV\",\"I-PACE\",\"I3\",\"I4\",\"I8\",\"ID.4\",\"IONIQ\",\"IONIQ 5\",\"IX\",\"KARMA\",\"KONA\",\"KONA ELECTRIC\",\"LEAF\",\"LUCID AIR\",\"MODEL 3\",\"MODEL S\",\"MODEL X\",\"MODEL Y\",\"MUSTANG MACH-E\",\"NIRO\",\"NX\",\"OPTIMA\",\"OUTLANDER\",\"PACIFICA\",\"PANAMERA\",\"PRIUS PLUG-IN\",\"PRIUS PRIME\",\"PS2\",\"Q4\",\"Q5\",\"Q5 E\",\"R1S\",\"R1T\",\"RANGE ROVER\",\"RANGE ROVER SPORT\",\"RANGER\",\"RAV4\",\"RAV4 PRIME\",\"ROADSTER\",\"RS E-TRON GT\",\"S-10 PICKUP\",\"S-CLASS\",\"S60\",\"S90\",\"SANTA FE\",\"SOLTERRA\",\"SONATA\",\"SORENTO\",\"SOUL\",\"SOUL EV\",\"SPARK\",\"SPORTAGE\",\"TAYCAN\",\"TRANSIT\",\"TRANSIT CONNECT ELECTRIC\",\"TUCSON\",\"V60\",\"VOLT\",\"WRANGLER\",\"X3\",\"X5\",\"XC40\",\"XC60\",\"XC90\"],\"name\":\"\",\"parents\":[\"\",\"\",\"\",\"\",\"\",\"\",\"\",\"\",\"\",\"\",\"\",\"\",\"\",\"\",\"\",\"\",\"\",\"\",\"\",\"\",\"\",\"\",\"\",\"\",\"\",\"\",\"\",\"\",\"\",\"\",\"\",\"\",\"\",\"\",\"\",\"\",\"\",\"\",\"\",\"\",\"\",\"\",\"\",\"\",\"\",\"\",\"\",\"\",\"\",\"\",\"\",\"\",\"\",\"\",\"\",\"\",\"\",\"\",\"\",\"\",\"\",\"\",\"\",\"\",\"\",\"\",\"\",\"\",\"\",\"\",\"\",\"\",\"\",\"\",\"\",\"\",\"\",\"\",\"\",\"\",\"\",\"\",\"\",\"\",\"\",\"\",\"\",\"\",\"\",\"\",\"\",\"\",\"\",\"\",\"\",\"\",\"\",\"\",\"\",\"\",\"\",\"\",\"\",\"\",\"\",\"\",\"\",\"\",\"\",\"\",\"\",\"\",\"\",\"\"],\"values\":[228,548,262,28,7,2,1,295,10,3,9,111,88,2,100,1653,21,904,88,225,3,378,43,159,45,31,495,439,55,137,5,65,47,33,63,20,170,316,125,1,217,54,136,1126,5,127,41,38,12,274,59,165,1179,104,94,512,175,295,108,18,148,206,3391,55,2782,2437,1528,1463,548,1112,29,94,288,835,111,538,1069,286,50,104,263,29,234,13,23,12,56,411,50,16,1,10,73,23,57,1,73,184,205,174,205,38,274,53,7,30,9,1997,648,153,665,247,488,532],\"type\":\"treemap\"}],                        {\"template\":{\"data\":{\"candlestick\":[{\"decreasing\":{\"line\":{\"color\":\"#000033\"}},\"increasing\":{\"line\":{\"color\":\"#000032\"}},\"type\":\"candlestick\"}],\"contourcarpet\":[{\"colorscale\":[[0.0,\"#000011\"],[0.1111111111111111,\"#000012\"],[0.2222222222222222,\"#000013\"],[0.3333333333333333,\"#000014\"],[0.4444444444444444,\"#000015\"],[0.5555555555555556,\"#000016\"],[0.6666666666666666,\"#000017\"],[0.7777777777777778,\"#000018\"],[0.8888888888888888,\"#000019\"],[1.0,\"#000020\"]],\"type\":\"contourcarpet\"}],\"contour\":[{\"colorscale\":[[0.0,\"#000011\"],[0.1111111111111111,\"#000012\"],[0.2222222222222222,\"#000013\"],[0.3333333333333333,\"#000014\"],[0.4444444444444444,\"#000015\"],[0.5555555555555556,\"#000016\"],[0.6666666666666666,\"#000017\"],[0.7777777777777778,\"#000018\"],[0.8888888888888888,\"#000019\"],[1.0,\"#000020\"]],\"type\":\"contour\"}],\"heatmap\":[{\"colorscale\":[[0.0,\"#000011\"],[0.1111111111111111,\"#000012\"],[0.2222222222222222,\"#000013\"],[0.3333333333333333,\"#000014\"],[0.4444444444444444,\"#000015\"],[0.5555555555555556,\"#000016\"],[0.6666666666666666,\"#000017\"],[0.7777777777777778,\"#000018\"],[0.8888888888888888,\"#000019\"],[1.0,\"#000020\"]],\"type\":\"heatmap\"}],\"histogram2d\":[{\"colorscale\":[[0.0,\"#000011\"],[0.1111111111111111,\"#000012\"],[0.2222222222222222,\"#000013\"],[0.3333333333333333,\"#000014\"],[0.4444444444444444,\"#000015\"],[0.5555555555555556,\"#000016\"],[0.6666666666666666,\"#000017\"],[0.7777777777777778,\"#000018\"],[0.8888888888888888,\"#000019\"],[1.0,\"#000020\"]],\"type\":\"histogram2d\"}],\"icicle\":[{\"textfont\":{\"color\":\"white\"},\"type\":\"icicle\"}],\"sankey\":[{\"textfont\":{\"color\":\"#000036\"},\"type\":\"sankey\"}],\"scatter\":[{\"marker\":{\"line\":{\"width\":0}},\"type\":\"scatter\"}],\"table\":[{\"cells\":{\"fill\":{\"color\":\"#000038\"},\"font\":{\"color\":\"#000037\"},\"line\":{\"color\":\"#000039\"}},\"header\":{\"fill\":{\"color\":\"#000040\"},\"font\":{\"color\":\"#000036\"},\"line\":{\"color\":\"#000039\"}},\"type\":\"table\"}],\"waterfall\":[{\"connector\":{\"line\":{\"color\":\"#000036\",\"width\":2}},\"decreasing\":{\"marker\":{\"color\":\"#000033\"}},\"increasing\":{\"marker\":{\"color\":\"#000032\"}},\"totals\":{\"marker\":{\"color\":\"#000034\"}},\"type\":\"waterfall\"}]},\"layout\":{\"coloraxis\":{\"colorscale\":[[0.0,\"#000011\"],[0.1111111111111111,\"#000012\"],[0.2222222222222222,\"#000013\"],[0.3333333333333333,\"#000014\"],[0.4444444444444444,\"#000015\"],[0.5555555555555556,\"#000016\"],[0.6666666666666666,\"#000017\"],[0.7777777777777778,\"#000018\"],[0.8888888888888888,\"#000019\"],[1.0,\"#000020\"]]},\"colorscale\":{\"diverging\":[[0.0,\"#000021\"],[0.1,\"#000022\"],[0.2,\"#000023\"],[0.3,\"#000024\"],[0.4,\"#000025\"],[0.5,\"#000026\"],[0.6,\"#000027\"],[0.7,\"#000028\"],[0.8,\"#000029\"],[0.9,\"#000030\"],[1.0,\"#000031\"]],\"sequential\":[[0.0,\"#000011\"],[0.1111111111111111,\"#000012\"],[0.2222222222222222,\"#000013\"],[0.3333333333333333,\"#000014\"],[0.4444444444444444,\"#000015\"],[0.5555555555555556,\"#000016\"],[0.6666666666666666,\"#000017\"],[0.7777777777777778,\"#000018\"],[0.8888888888888888,\"#000019\"],[1.0,\"#000020\"]],\"sequentialminus\":[[0.0,\"#000011\"],[0.1111111111111111,\"#000012\"],[0.2222222222222222,\"#000013\"],[0.3333333333333333,\"#000014\"],[0.4444444444444444,\"#000015\"],[0.5555555555555556,\"#000016\"],[0.6666666666666666,\"#000017\"],[0.7777777777777778,\"#000018\"],[0.8888888888888888,\"#000019\"],[1.0,\"#000020\"]]},\"colorway\":[\"#000001\",\"#000002\",\"#000003\",\"#000004\",\"#000005\",\"#000006\",\"#000007\",\"#000008\",\"#000009\",\"#000010\"]}},\"legend\":{\"tracegroupgap\":0},\"margin\":{\"t\":50,\"l\":10,\"r\":10,\"b\":10},\"font\":{\"size\":16},\"uniformtext\":{\"minsize\":12,\"mode\":\"hide\"},\"title\":{\"text\":\"Car Models Distribution\"},\"treemapcolorway\":[\"#1f77b4\",\"#ff7f0e\",\"#2ca02c\",\"#d62728\"]},                        {\"responsive\": true}                    ).then(function(){\n",
       "                            \n",
       "var gd = document.getElementById('0896a0be-6c32-45dc-acc8-a8687d283537');\n",
       "var x = new MutationObserver(function (mutations, observer) {{\n",
       "        var display = window.getComputedStyle(gd).display;\n",
       "        if (!display || display === 'none') {{\n",
       "            console.log([gd, 'removed!']);\n",
       "            Plotly.purge(gd);\n",
       "            observer.disconnect();\n",
       "        }}\n",
       "}});\n",
       "\n",
       "// Listen for the removal of the full notebook cells\n",
       "var notebookContainer = gd.closest('#notebook-container');\n",
       "if (notebookContainer) {{\n",
       "    x.observe(notebookContainer, {childList: true});\n",
       "}}\n",
       "\n",
       "// Listen for the clearing of the current output cell\n",
       "var outputEl = gd.closest('.output');\n",
       "if (outputEl) {{\n",
       "    x.observe(outputEl, {childList: true});\n",
       "}}\n",
       "\n",
       "                        })                };                });            </script>        </div>"
      ]
     },
     "metadata": {},
     "output_type": "display_data"
    }
   ],
   "source": [
    "import plotly.express as px\n",
    "fig = px.treemap(lop, path=['labels'], values='size')\n",
    "\n",
    "# Customizations\n",
    "fig.update_layout(\n",
    "    margin=dict(t=50, l=10, r=10, b=10),  # Adjust the margins\n",
    "    title=\"Car Models Distribution\",     # Add a title\n",
    "    font=dict(size=16),                  # Adjust the font size\n",
    "    uniformtext=dict(minsize=12, mode='hide'),  # Hide small labels\n",
    "    treemapcolorway=['#1f77b4', '#ff7f0e', '#2ca02c', '#d62728'],  # Custom color palette\n",
    ")\n",
    "\n",
    "fig.update_traces(\n",
    "    # Customize the hover labels\n",
    "    hovertemplate='<b>%{label}</b><br>Size: %{value}',\n",
    ")\n",
    "\n",
    "fig.show()"
   ]
  },
  {
   "cell_type": "code",
   "execution_count": 12,
   "id": "af39eddc",
   "metadata": {},
   "outputs": [
    {
     "name": "stdout",
     "output_type": "stream",
     "text": [
      "Collecting squarify\n",
      "  Downloading squarify-0.4.3-py3-none-any.whl (4.3 kB)\n",
      "Installing collected packages: squarify\n",
      "Successfully installed squarify-0.4.3\n",
      "Note: you may need to restart the kernel to use updated packages.\n"
     ]
    }
   ],
   "source": [
    "%pip install squarify"
   ]
  },
  {
   "cell_type": "code",
   "execution_count": 25,
   "id": "8f35ac21",
   "metadata": {},
   "outputs": [
    {
     "data": {
      "text/plain": [
       "'Clean Alternative Fuel Vehicle Eligible'"
      ]
     },
     "execution_count": 25,
     "metadata": {},
     "output_type": "execute_result"
    }
   ],
   "source": [
    "cars[cars['model']== 'LEAF']['cafv_eligibilaty'][0]"
   ]
  },
  {
   "cell_type": "code",
   "execution_count": 63,
   "id": "87621638",
   "metadata": {},
   "outputs": [],
   "source": []
  },
  {
   "cell_type": "code",
   "execution_count": 64,
   "id": "5d7ebce4",
   "metadata": {},
   "outputs": [
    {
     "data": {
      "text/html": [
       "<div>\n",
       "<style scoped>\n",
       "    .dataframe tbody tr th:only-of-type {\n",
       "        vertical-align: middle;\n",
       "    }\n",
       "\n",
       "    .dataframe tbody tr th {\n",
       "        vertical-align: top;\n",
       "    }\n",
       "\n",
       "    .dataframe thead th {\n",
       "        text-align: right;\n",
       "    }\n",
       "</style>\n",
       "<table border=\"1\" class=\"dataframe\">\n",
       "  <thead>\n",
       "    <tr style=\"text-align: right;\">\n",
       "      <th></th>\n",
       "      <th>Unnamed: 0</th>\n",
       "      <th>county</th>\n",
       "      <th>city</th>\n",
       "      <th>state</th>\n",
       "      <th>postal_code</th>\n",
       "      <th>model_year</th>\n",
       "      <th>make</th>\n",
       "      <th>model</th>\n",
       "      <th>electric_vehicle_type</th>\n",
       "      <th>cafv_eligibilaty</th>\n",
       "      <th>electric_range</th>\n",
       "      <th>vehicle_location</th>\n",
       "      <th>electric_utility</th>\n",
       "      <th>latitude</th>\n",
       "      <th>longitude</th>\n",
       "    </tr>\n",
       "  </thead>\n",
       "  <tbody>\n",
       "    <tr>\n",
       "      <th>16</th>\n",
       "      <td>16</td>\n",
       "      <td>Thurston</td>\n",
       "      <td>Olympia</td>\n",
       "      <td>WA</td>\n",
       "      <td>98502</td>\n",
       "      <td>2021</td>\n",
       "      <td>NISSAN</td>\n",
       "      <td>LEAF</td>\n",
       "      <td>Electric</td>\n",
       "      <td>Eligibility unknown as battery range has not b...</td>\n",
       "      <td>0</td>\n",
       "      <td>(-122.92333 47.03779)</td>\n",
       "      <td>PUGET SOUND ENERGY INC</td>\n",
       "      <td>-122.92333</td>\n",
       "      <td>47.03779</td>\n",
       "    </tr>\n",
       "    <tr>\n",
       "      <th>34</th>\n",
       "      <td>34</td>\n",
       "      <td>Snohomish</td>\n",
       "      <td>Everett</td>\n",
       "      <td>WA</td>\n",
       "      <td>98204</td>\n",
       "      <td>2022</td>\n",
       "      <td>FORD</td>\n",
       "      <td>F-150</td>\n",
       "      <td>Electric</td>\n",
       "      <td>Eligibility unknown as battery range has not b...</td>\n",
       "      <td>0</td>\n",
       "      <td>(-122.25527 47.90456)</td>\n",
       "      <td>PUGET SOUND ENERGY INC</td>\n",
       "      <td>-122.25527</td>\n",
       "      <td>47.90456</td>\n",
       "    </tr>\n",
       "    <tr>\n",
       "      <th>50</th>\n",
       "      <td>50</td>\n",
       "      <td>Snohomish</td>\n",
       "      <td>Snohomish</td>\n",
       "      <td>WA</td>\n",
       "      <td>98290</td>\n",
       "      <td>2022</td>\n",
       "      <td>NISSAN</td>\n",
       "      <td>LEAF</td>\n",
       "      <td>Electric</td>\n",
       "      <td>Eligibility unknown as battery range has not b...</td>\n",
       "      <td>0</td>\n",
       "      <td>(-122.09305 47.91265)</td>\n",
       "      <td>PUGET SOUND ENERGY INC</td>\n",
       "      <td>-122.09305</td>\n",
       "      <td>47.91265</td>\n",
       "    </tr>\n",
       "    <tr>\n",
       "      <th>51</th>\n",
       "      <td>51</td>\n",
       "      <td>King</td>\n",
       "      <td>Redmond</td>\n",
       "      <td>WA</td>\n",
       "      <td>98052</td>\n",
       "      <td>2022</td>\n",
       "      <td>CHEVROLET</td>\n",
       "      <td>BOLT EV</td>\n",
       "      <td>Electric</td>\n",
       "      <td>Eligibility unknown as battery range has not b...</td>\n",
       "      <td>0</td>\n",
       "      <td>(-122.13158 47.67858)</td>\n",
       "      <td>PUGET SOUND ENERGY INC</td>\n",
       "      <td>-122.13158</td>\n",
       "      <td>47.67858</td>\n",
       "    </tr>\n",
       "    <tr>\n",
       "      <th>53</th>\n",
       "      <td>53</td>\n",
       "      <td>King</td>\n",
       "      <td>Issaquah</td>\n",
       "      <td>WA</td>\n",
       "      <td>98029</td>\n",
       "      <td>2022</td>\n",
       "      <td>TESLA</td>\n",
       "      <td>MODEL Y</td>\n",
       "      <td>Electric</td>\n",
       "      <td>Eligibility unknown as battery range has not b...</td>\n",
       "      <td>0</td>\n",
       "      <td>(-122.00292 47.54748)</td>\n",
       "      <td>PUGET SOUND ENERGY INC</td>\n",
       "      <td>-122.00292</td>\n",
       "      <td>47.54748</td>\n",
       "    </tr>\n",
       "    <tr>\n",
       "      <th>...</th>\n",
       "      <td>...</td>\n",
       "      <td>...</td>\n",
       "      <td>...</td>\n",
       "      <td>...</td>\n",
       "      <td>...</td>\n",
       "      <td>...</td>\n",
       "      <td>...</td>\n",
       "      <td>...</td>\n",
       "      <td>...</td>\n",
       "      <td>...</td>\n",
       "      <td>...</td>\n",
       "      <td>...</td>\n",
       "      <td>...</td>\n",
       "      <td>...</td>\n",
       "      <td>...</td>\n",
       "    </tr>\n",
       "    <tr>\n",
       "      <th>36251</th>\n",
       "      <td>36251</td>\n",
       "      <td>Spokane</td>\n",
       "      <td>Spokane</td>\n",
       "      <td>WA</td>\n",
       "      <td>99207</td>\n",
       "      <td>2021</td>\n",
       "      <td>CHEVROLET</td>\n",
       "      <td>BOLT EV</td>\n",
       "      <td>Electric</td>\n",
       "      <td>Eligibility unknown as battery range has not b...</td>\n",
       "      <td>0</td>\n",
       "      <td>(-117.3973 47.67573)</td>\n",
       "      <td>BONNEVILLE POWER ADMINISTRATION</td>\n",
       "      <td>-117.39730</td>\n",
       "      <td>47.67573</td>\n",
       "    </tr>\n",
       "    <tr>\n",
       "      <th>36259</th>\n",
       "      <td>36259</td>\n",
       "      <td>Spokane</td>\n",
       "      <td>Spokane</td>\n",
       "      <td>WA</td>\n",
       "      <td>99212</td>\n",
       "      <td>2021</td>\n",
       "      <td>TESLA</td>\n",
       "      <td>MODEL 3</td>\n",
       "      <td>Electric</td>\n",
       "      <td>Eligibility unknown as battery range has not b...</td>\n",
       "      <td>0</td>\n",
       "      <td>(-117.3186 47.6505)</td>\n",
       "      <td>BONNEVILLE POWER ADMINISTRATION</td>\n",
       "      <td>-117.31860</td>\n",
       "      <td>47.65050</td>\n",
       "    </tr>\n",
       "    <tr>\n",
       "      <th>36262</th>\n",
       "      <td>36262</td>\n",
       "      <td>Whatcom</td>\n",
       "      <td>Ferndale</td>\n",
       "      <td>WA</td>\n",
       "      <td>98248</td>\n",
       "      <td>2022</td>\n",
       "      <td>VOLKSWAGEN</td>\n",
       "      <td>ID.4</td>\n",
       "      <td>Electric</td>\n",
       "      <td>Eligibility unknown as battery range has not b...</td>\n",
       "      <td>0</td>\n",
       "      <td>(-122.59351 48.84756)</td>\n",
       "      <td>PUGET SOUND ENERGY INC</td>\n",
       "      <td>-122.59351</td>\n",
       "      <td>48.84756</td>\n",
       "    </tr>\n",
       "    <tr>\n",
       "      <th>36265</th>\n",
       "      <td>36265</td>\n",
       "      <td>Skagit</td>\n",
       "      <td>Mount Vernon</td>\n",
       "      <td>WA</td>\n",
       "      <td>98274</td>\n",
       "      <td>2022</td>\n",
       "      <td>TESLA</td>\n",
       "      <td>MODEL S</td>\n",
       "      <td>Electric</td>\n",
       "      <td>Eligibility unknown as battery range has not b...</td>\n",
       "      <td>0</td>\n",
       "      <td>(-122.32267 48.41626)</td>\n",
       "      <td>PUGET SOUND ENERGY INC</td>\n",
       "      <td>-122.32267</td>\n",
       "      <td>48.41626</td>\n",
       "    </tr>\n",
       "    <tr>\n",
       "      <th>36267</th>\n",
       "      <td>36267</td>\n",
       "      <td>Pierce</td>\n",
       "      <td>Tacoma</td>\n",
       "      <td>WA</td>\n",
       "      <td>98404</td>\n",
       "      <td>2021</td>\n",
       "      <td>FORD</td>\n",
       "      <td>MUSTANG MACH-E</td>\n",
       "      <td>Electric</td>\n",
       "      <td>Eligibility unknown as battery range has not b...</td>\n",
       "      <td>0</td>\n",
       "      <td>(-122.41249 47.21584)</td>\n",
       "      <td>BONNEVILLE POWER ADMINISTRATION</td>\n",
       "      <td>-122.41249</td>\n",
       "      <td>47.21584</td>\n",
       "    </tr>\n",
       "  </tbody>\n",
       "</table>\n",
       "<p>8484 rows × 15 columns</p>\n",
       "</div>"
      ],
      "text/plain": [
       "       Unnamed: 0     county          city state  postal_code  model_year  \\\n",
       "16             16   Thurston       Olympia    WA        98502        2021   \n",
       "34             34  Snohomish       Everett    WA        98204        2022   \n",
       "50             50  Snohomish     Snohomish    WA        98290        2022   \n",
       "51             51       King       Redmond    WA        98052        2022   \n",
       "53             53       King      Issaquah    WA        98029        2022   \n",
       "...           ...        ...           ...   ...          ...         ...   \n",
       "36251       36251    Spokane       Spokane    WA        99207        2021   \n",
       "36259       36259    Spokane       Spokane    WA        99212        2021   \n",
       "36262       36262    Whatcom      Ferndale    WA        98248        2022   \n",
       "36265       36265     Skagit  Mount Vernon    WA        98274        2022   \n",
       "36267       36267     Pierce        Tacoma    WA        98404        2021   \n",
       "\n",
       "             make           model electric_vehicle_type  \\\n",
       "16         NISSAN            LEAF              Electric   \n",
       "34           FORD           F-150              Electric   \n",
       "50         NISSAN            LEAF              Electric   \n",
       "51      CHEVROLET         BOLT EV              Electric   \n",
       "53          TESLA         MODEL Y              Electric   \n",
       "...           ...             ...                   ...   \n",
       "36251   CHEVROLET         BOLT EV              Electric   \n",
       "36259       TESLA         MODEL 3              Electric   \n",
       "36262  VOLKSWAGEN            ID.4              Electric   \n",
       "36265       TESLA         MODEL S              Electric   \n",
       "36267        FORD  MUSTANG MACH-E              Electric   \n",
       "\n",
       "                                        cafv_eligibilaty  electric_range  \\\n",
       "16     Eligibility unknown as battery range has not b...               0   \n",
       "34     Eligibility unknown as battery range has not b...               0   \n",
       "50     Eligibility unknown as battery range has not b...               0   \n",
       "51     Eligibility unknown as battery range has not b...               0   \n",
       "53     Eligibility unknown as battery range has not b...               0   \n",
       "...                                                  ...             ...   \n",
       "36251  Eligibility unknown as battery range has not b...               0   \n",
       "36259  Eligibility unknown as battery range has not b...               0   \n",
       "36262  Eligibility unknown as battery range has not b...               0   \n",
       "36265  Eligibility unknown as battery range has not b...               0   \n",
       "36267  Eligibility unknown as battery range has not b...               0   \n",
       "\n",
       "             vehicle_location                 electric_utility   latitude  \\\n",
       "16      (-122.92333 47.03779)           PUGET SOUND ENERGY INC -122.92333   \n",
       "34      (-122.25527 47.90456)           PUGET SOUND ENERGY INC -122.25527   \n",
       "50      (-122.09305 47.91265)           PUGET SOUND ENERGY INC -122.09305   \n",
       "51      (-122.13158 47.67858)           PUGET SOUND ENERGY INC -122.13158   \n",
       "53      (-122.00292 47.54748)           PUGET SOUND ENERGY INC -122.00292   \n",
       "...                       ...                              ...        ...   \n",
       "36251    (-117.3973 47.67573)  BONNEVILLE POWER ADMINISTRATION -117.39730   \n",
       "36259     (-117.3186 47.6505)  BONNEVILLE POWER ADMINISTRATION -117.31860   \n",
       "36262   (-122.59351 48.84756)           PUGET SOUND ENERGY INC -122.59351   \n",
       "36265   (-122.32267 48.41626)           PUGET SOUND ENERGY INC -122.32267   \n",
       "36267   (-122.41249 47.21584)  BONNEVILLE POWER ADMINISTRATION -122.41249   \n",
       "\n",
       "       longitude  \n",
       "16      47.03779  \n",
       "34      47.90456  \n",
       "50      47.91265  \n",
       "51      47.67858  \n",
       "53      47.54748  \n",
       "...          ...  \n",
       "36251   47.67573  \n",
       "36259   47.65050  \n",
       "36262   48.84756  \n",
       "36265   48.41626  \n",
       "36267   47.21584  \n",
       "\n",
       "[8484 rows x 15 columns]"
      ]
     },
     "execution_count": 64,
     "metadata": {},
     "output_type": "execute_result"
    }
   ],
   "source": []
  },
  {
   "cell_type": "code",
   "execution_count": 66,
   "id": "c50cdb54",
   "metadata": {},
   "outputs": [
    {
     "data": {
      "text/plain": [
       "cafv_eligibilaty\n",
       "Clean Alternative Fuel Vehicle Eligible    18726\n",
       "Not eligible due to low battery range       9072\n",
       "Name: make, dtype: int64"
      ]
     },
     "execution_count": 66,
     "metadata": {},
     "output_type": "execute_result"
    }
   ],
   "source": [
    "lep = cars[cars['cafv_eligibilaty'] != 'Eligibility unknown as battery range has not been researched']\n",
    "lep.groupby('cafv_eligibilaty')['make'].count()\n",
    "# haz columna booleanos para cafv para scatter"
   ]
  },
  {
   "cell_type": "code",
   "execution_count": null,
   "id": "f380f265",
   "metadata": {},
   "outputs": [],
   "source": [
    "coln1,coln2= st.columns((3,7))\n",
    "    with coln1:\n",
    "       \n",
    "        copium= st.selectbox('Select model', cars.model.unique())\n",
    "    with coln2:\n",
    "        st.metric(label= 'CAFV', value= cars[cars['model']== copium]['cafv_eligibilaty'].mode())\n",
    "        \n",
    "    coln3,coln4,coln5 = st.columns(3)    \n",
    "    with coln3:\n",
    "        \n",
    "        st.metric(label= 'Electric Range', value=f\" {cars[cars['model']== copium]['electric_range'][0]} miles \")\n",
    "    with coln4:\n",
    "        \n",
    "        st.metric(label= 'Make', value= cars[cars['model']== copium]['make'][0])\n",
    "    with coln5:\n",
    "        st.metric(label= 'Type', value= cars[cars['model']== copium]['electric_vehicle_type'][0])"
   ]
  }
 ],
 "metadata": {
  "kernelspec": {
   "display_name": "Python 3 (ipykernel)",
   "language": "python",
   "name": "python3"
  },
  "language_info": {
   "codemirror_mode": {
    "name": "ipython",
    "version": 3
   },
   "file_extension": ".py",
   "mimetype": "text/x-python",
   "name": "python",
   "nbconvert_exporter": "python",
   "pygments_lexer": "ipython3",
   "version": "3.10.9"
  }
 },
 "nbformat": 4,
 "nbformat_minor": 5
}
