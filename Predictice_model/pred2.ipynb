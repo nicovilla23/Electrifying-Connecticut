{
 "cells": [
  {
   "cell_type": "code",
   "execution_count": null,
   "id": "0af7139b",
   "metadata": {},
   "outputs": [],
   "source": [
    "import pandas as pd\n",
    "import numpy as np\n",
    "import matplotlib.pyplot as plt\n",
    "from sklearn.linear_model import LinearRegression\n",
    "from sklearn.preprocessing import PolynomialFeatures"
   ]
  },
  {
   "cell_type": "code",
   "execution_count": 60,
   "id": "1db9aa9e",
   "metadata": {},
   "outputs": [],
   "source": [
    "df = pd.read_clipboard()"
   ]
  },
  {
   "cell_type": "code",
   "execution_count": 68,
   "id": "552bba61",
   "metadata": {},
   "outputs": [
    {
     "name": "stderr",
     "output_type": "stream",
     "text": [
      "/var/folders/04/59t4vh2x34534rlkgcmfybl40000gn/T/ipykernel_33543/1888041280.py:4: SettingWithCopyWarning: \n",
      "A value is trying to be set on a copy of a slice from a DataFrame\n",
      "\n",
      "See the caveats in the documentation: https://pandas.pydata.org/pandas-docs/stable/user_guide/indexing.html#returning-a-view-versus-a-copy\n",
      "  hy_df.fillna(0,inplace=True)\n"
     ]
    },
    {
     "data": {
      "text/html": [
       "<div>\n",
       "<style scoped>\n",
       "    .dataframe tbody tr th:only-of-type {\n",
       "        vertical-align: middle;\n",
       "    }\n",
       "\n",
       "    .dataframe tbody tr th {\n",
       "        vertical-align: top;\n",
       "    }\n",
       "\n",
       "    .dataframe thead th {\n",
       "        text-align: right;\n",
       "    }\n",
       "</style>\n",
       "<table border=\"1\" class=\"dataframe\">\n",
       "  <thead>\n",
       "    <tr style=\"text-align: right;\">\n",
       "      <th></th>\n",
       "      <th>YEAR</th>\n",
       "      <th>PLUG-IN ELECTRIC CARS</th>\n",
       "    </tr>\n",
       "  </thead>\n",
       "  <tbody>\n",
       "    <tr>\n",
       "      <th>0</th>\n",
       "      <td>2010</td>\n",
       "      <td>0.0</td>\n",
       "    </tr>\n",
       "    <tr>\n",
       "      <th>1</th>\n",
       "      <td>2011</td>\n",
       "      <td>0.0</td>\n",
       "    </tr>\n",
       "    <tr>\n",
       "      <th>2</th>\n",
       "      <td>2012</td>\n",
       "      <td>6225.0</td>\n",
       "    </tr>\n",
       "    <tr>\n",
       "      <th>3</th>\n",
       "      <td>2013</td>\n",
       "      <td>31079.0</td>\n",
       "    </tr>\n",
       "    <tr>\n",
       "      <th>4</th>\n",
       "      <td>2014</td>\n",
       "      <td>60370.0</td>\n",
       "    </tr>\n",
       "    <tr>\n",
       "      <th>5</th>\n",
       "      <td>2015</td>\n",
       "      <td>84115.0</td>\n",
       "    </tr>\n",
       "    <tr>\n",
       "      <th>6</th>\n",
       "      <td>2016</td>\n",
       "      <td>65011.0</td>\n",
       "    </tr>\n",
       "    <tr>\n",
       "      <th>7</th>\n",
       "      <td>2017</td>\n",
       "      <td>88334.0</td>\n",
       "    </tr>\n",
       "    <tr>\n",
       "      <th>8</th>\n",
       "      <td>2018</td>\n",
       "      <td>106502.0</td>\n",
       "    </tr>\n",
       "    <tr>\n",
       "      <th>9</th>\n",
       "      <td>2019</td>\n",
       "      <td>137632.0</td>\n",
       "    </tr>\n",
       "    <tr>\n",
       "      <th>10</th>\n",
       "      <td>2020</td>\n",
       "      <td>525311.0</td>\n",
       "    </tr>\n",
       "    <tr>\n",
       "      <th>11</th>\n",
       "      <td>2021</td>\n",
       "      <td>852440.0</td>\n",
       "    </tr>\n",
       "  </tbody>\n",
       "</table>\n",
       "</div>"
      ],
      "text/plain": [
       "    YEAR  PLUG-IN ELECTRIC CARS\n",
       "0   2010                    0.0\n",
       "1   2011                    0.0\n",
       "2   2012                 6225.0\n",
       "3   2013                31079.0\n",
       "4   2014                60370.0\n",
       "5   2015                84115.0\n",
       "6   2016                65011.0\n",
       "7   2017                88334.0\n",
       "8   2018               106502.0\n",
       "9   2019               137632.0\n",
       "10  2020               525311.0\n",
       "11  2021               852440.0"
      ]
     },
     "execution_count": 68,
     "metadata": {},
     "output_type": "execute_result"
    }
   ],
   "source": [
    "hy_df= df[['YEAR','PLUG-IN ELECTRIC CARS']]\n",
    "e_df= df[['YEAR','BATTERY ELECTRIC CARS']]\n",
    "\n",
    "hy_df.fillna(0,inplace=True)\n",
    "hy_df"
   ]
  },
  {
   "cell_type": "code",
   "execution_count": 70,
   "id": "200beaf4",
   "metadata": {},
   "outputs": [],
   "source": [
    "\n",
    "hy_X = hy_df[['YEAR']]\n",
    "hy_y = hy_df['PLUG-IN ELECTRIC CARS']\n",
    "\n",
    "e_X = e_df[['YEAR']]\n",
    "e_y = e_df['BATTERY ELECTRIC CARS']\n"
   ]
  },
  {
   "cell_type": "code",
   "execution_count": 76,
   "id": "13d696a5",
   "metadata": {},
   "outputs": [
    {
     "name": "stdout",
     "output_type": "stream",
     "text": [
      "[ 681624.1620636   880428.11358643 1103353.00863647 1350398.847229\n",
      " 1621565.62937164]\n"
     ]
    }
   ],
   "source": [
    "poly_reg = PolynomialFeatures(degree=2)\n",
    "hy_X_poly = poly_reg.fit_transform(hy_X)\n",
    "poly_reg.fit(hy_X_poly, hy_y)\n",
    "poly_reg_model = LinearRegression()\n",
    "poly_reg_model.fit(hy_X_poly, hy_y)\n",
    "future_years = np.array([2021, 2022, 2023, 2024, 2025]).reshape(-1, 1)\n",
    "future_years_poly = poly_reg.fit_transform(future_years)\n",
    "hy_poly_reg_predictions = poly_reg_model.predict(future_years_poly)\n",
    "print(hy_poly_reg_predictions)"
   ]
  },
  {
   "cell_type": "code",
   "execution_count": 75,
   "id": "631dcaf5",
   "metadata": {},
   "outputs": [
    {
     "name": "stdout",
     "output_type": "stream",
     "text": [
      "[ 732968.19208527  949097.95423889 1191505.91917419 1460192.0868988\n",
      " 1755156.45741272]\n"
     ]
    }
   ],
   "source": [
    "poly_reg = PolynomialFeatures(degree=2)\n",
    "e_X_poly = poly_reg.fit_transform(e_X)\n",
    "poly_reg.fit(e_X_poly, e_y)\n",
    "poly_reg_model = LinearRegression()\n",
    "poly_reg_model.fit(e_X_poly, e_y)\n",
    "future_years = np.array([2021, 2022, 2023, 2024, 2025]).reshape(-1, 1)\n",
    "future_years_poly = poly_reg.fit_transform(future_years)\n",
    "e_poly_reg_predictions = poly_reg_model.predict(future_years_poly)\n",
    "print(e_poly_reg_predictions)"
   ]
  },
  {
   "cell_type": "code",
   "execution_count": 93,
   "id": "abcdbf7a",
   "metadata": {},
   "outputs": [
    {
     "data": {
      "text/html": [
       "<div>\n",
       "<style scoped>\n",
       "    .dataframe tbody tr th:only-of-type {\n",
       "        vertical-align: middle;\n",
       "    }\n",
       "\n",
       "    .dataframe tbody tr th {\n",
       "        vertical-align: top;\n",
       "    }\n",
       "\n",
       "    .dataframe thead th {\n",
       "        text-align: right;\n",
       "    }\n",
       "</style>\n",
       "<table border=\"1\" class=\"dataframe\">\n",
       "  <thead>\n",
       "    <tr style=\"text-align: right;\">\n",
       "      <th></th>\n",
       "      <th>YEAR</th>\n",
       "      <th>PLUG-IN ELECTRIC CARS</th>\n",
       "    </tr>\n",
       "  </thead>\n",
       "  <tbody>\n",
       "    <tr>\n",
       "      <th>1</th>\n",
       "      <td>2022</td>\n",
       "      <td>880428</td>\n",
       "    </tr>\n",
       "    <tr>\n",
       "      <th>2</th>\n",
       "      <td>2023</td>\n",
       "      <td>1103353</td>\n",
       "    </tr>\n",
       "    <tr>\n",
       "      <th>3</th>\n",
       "      <td>2024</td>\n",
       "      <td>1350399</td>\n",
       "    </tr>\n",
       "    <tr>\n",
       "      <th>4</th>\n",
       "      <td>2025</td>\n",
       "      <td>1621566</td>\n",
       "    </tr>\n",
       "  </tbody>\n",
       "</table>\n",
       "</div>"
      ],
      "text/plain": [
       "   YEAR  PLUG-IN ELECTRIC CARS\n",
       "1  2022                 880428\n",
       "2  2023                1103353\n",
       "3  2024                1350399\n",
       "4  2025                1621566"
      ]
     },
     "execution_count": 93,
     "metadata": {},
     "output_type": "execute_result"
    }
   ],
   "source": [
    "dict_hy ={'YEAR': [2021, 2022, 2023, 2024, 2025],\n",
    "   'PLUG-IN ELECTRIC CARS' :  [681624, 880428, 1103353, 1350399,\n",
    " 1621566] }\n",
    "pred_hy = pd.DataFrame(dict_hy)\n",
    "pred_hy.drop([0], inplace=True)\n",
    "pred_hy"
   ]
  },
  {
   "cell_type": "code",
   "execution_count": 96,
   "id": "dc34bc5f",
   "metadata": {},
   "outputs": [],
   "source": [
    " e_final= pd.concat([e_df, pred_e], axis=0)"
   ]
  },
  {
   "cell_type": "code",
   "execution_count": 92,
   "id": "03970709",
   "metadata": {},
   "outputs": [
    {
     "data": {
      "text/html": [
       "<div>\n",
       "<style scoped>\n",
       "    .dataframe tbody tr th:only-of-type {\n",
       "        vertical-align: middle;\n",
       "    }\n",
       "\n",
       "    .dataframe tbody tr th {\n",
       "        vertical-align: top;\n",
       "    }\n",
       "\n",
       "    .dataframe thead th {\n",
       "        text-align: right;\n",
       "    }\n",
       "</style>\n",
       "<table border=\"1\" class=\"dataframe\">\n",
       "  <thead>\n",
       "    <tr style=\"text-align: right;\">\n",
       "      <th></th>\n",
       "      <th>YEAR</th>\n",
       "      <th>BATTERY ELECTRIC CARS</th>\n",
       "    </tr>\n",
       "  </thead>\n",
       "  <tbody>\n",
       "    <tr>\n",
       "      <th>1</th>\n",
       "      <td>2022</td>\n",
       "      <td>949098</td>\n",
       "    </tr>\n",
       "    <tr>\n",
       "      <th>2</th>\n",
       "      <td>2023</td>\n",
       "      <td>1191506</td>\n",
       "    </tr>\n",
       "    <tr>\n",
       "      <th>3</th>\n",
       "      <td>2024</td>\n",
       "      <td>1460192</td>\n",
       "    </tr>\n",
       "    <tr>\n",
       "      <th>4</th>\n",
       "      <td>2025</td>\n",
       "      <td>1755156</td>\n",
       "    </tr>\n",
       "  </tbody>\n",
       "</table>\n",
       "</div>"
      ],
      "text/plain": [
       "   YEAR  BATTERY ELECTRIC CARS\n",
       "1  2022                 949098\n",
       "2  2023                1191506\n",
       "3  2024                1460192\n",
       "4  2025                1755156"
      ]
     },
     "execution_count": 92,
     "metadata": {},
     "output_type": "execute_result"
    }
   ],
   "source": [
    "dict_e ={'YEAR': [2021, 2022, 2023, 2024, 2025],\n",
    "   'BATTERY ELECTRIC CARS' :  [732968  ,949098, 1191506, 1460192,\n",
    " 1755156] }\n",
    "pred_e = pd.DataFrame(dict_e)\n",
    "pred_e.drop([0], inplace=True)\n",
    "pred_e"
   ]
  },
  {
   "cell_type": "code",
   "execution_count": 97,
   "id": "539190bb",
   "metadata": {},
   "outputs": [],
   "source": [
    " hy_final = pd.concat([hy_df, pred_hy], axis=0)"
   ]
  },
  {
   "cell_type": "code",
   "execution_count": 101,
   "id": "7a7692e2",
   "metadata": {},
   "outputs": [],
   "source": [
    "hy_final.drop(columns='YEAR',inplace=True)"
   ]
  },
  {
   "cell_type": "code",
   "execution_count": 103,
   "id": "b8d9e342",
   "metadata": {},
   "outputs": [],
   "source": [
    "final = pd.concat([e_final,hy_final], axis = 1)"
   ]
  },
  {
   "cell_type": "code",
   "execution_count": 108,
   "id": "69384347",
   "metadata": {},
   "outputs": [],
   "source": [
    "final.rename(columns={'BATTERY ELECTRIC CARS': 'Electric', 'PLUG-IN ELECTRIC CARS': 'Plug-in Hybrid'}, inplace=True)"
   ]
  },
  {
   "cell_type": "code",
   "execution_count": 110,
   "id": "8c255f1e",
   "metadata": {},
   "outputs": [],
   "source": [
    "final.to_csv('Final_Pred.csv')"
   ]
  },
  {
   "cell_type": "code",
   "execution_count": 109,
   "id": "6700b16b",
   "metadata": {},
   "outputs": [
    {
     "data": {
      "text/html": [
       "<div>\n",
       "<style scoped>\n",
       "    .dataframe tbody tr th:only-of-type {\n",
       "        vertical-align: middle;\n",
       "    }\n",
       "\n",
       "    .dataframe tbody tr th {\n",
       "        vertical-align: top;\n",
       "    }\n",
       "\n",
       "    .dataframe thead th {\n",
       "        text-align: right;\n",
       "    }\n",
       "</style>\n",
       "<table border=\"1\" class=\"dataframe\">\n",
       "  <thead>\n",
       "    <tr style=\"text-align: right;\">\n",
       "      <th></th>\n",
       "      <th>YEAR</th>\n",
       "      <th>Electric</th>\n",
       "      <th>Plug-in Hybrid</th>\n",
       "    </tr>\n",
       "  </thead>\n",
       "  <tbody>\n",
       "    <tr>\n",
       "      <th>0</th>\n",
       "      <td>2010</td>\n",
       "      <td>591</td>\n",
       "      <td>0.0</td>\n",
       "    </tr>\n",
       "    <tr>\n",
       "      <th>1</th>\n",
       "      <td>2011</td>\n",
       "      <td>7179</td>\n",
       "      <td>0.0</td>\n",
       "    </tr>\n",
       "    <tr>\n",
       "      <th>2</th>\n",
       "      <td>2012</td>\n",
       "      <td>13730</td>\n",
       "      <td>6225.0</td>\n",
       "    </tr>\n",
       "    <tr>\n",
       "      <th>3</th>\n",
       "      <td>2013</td>\n",
       "      <td>21454</td>\n",
       "      <td>31079.0</td>\n",
       "    </tr>\n",
       "    <tr>\n",
       "      <th>4</th>\n",
       "      <td>2014</td>\n",
       "      <td>31197</td>\n",
       "      <td>60370.0</td>\n",
       "    </tr>\n",
       "    <tr>\n",
       "      <th>5</th>\n",
       "      <td>2015</td>\n",
       "      <td>46857</td>\n",
       "      <td>84115.0</td>\n",
       "    </tr>\n",
       "    <tr>\n",
       "      <th>6</th>\n",
       "      <td>2016</td>\n",
       "      <td>54065</td>\n",
       "      <td>65011.0</td>\n",
       "    </tr>\n",
       "    <tr>\n",
       "      <th>7</th>\n",
       "      <td>2017</td>\n",
       "      <td>83491</td>\n",
       "      <td>88334.0</td>\n",
       "    </tr>\n",
       "    <tr>\n",
       "      <th>8</th>\n",
       "      <td>2018</td>\n",
       "      <td>132377</td>\n",
       "      <td>106502.0</td>\n",
       "    </tr>\n",
       "    <tr>\n",
       "      <th>9</th>\n",
       "      <td>2019</td>\n",
       "      <td>242966</td>\n",
       "      <td>137632.0</td>\n",
       "    </tr>\n",
       "    <tr>\n",
       "      <th>10</th>\n",
       "      <td>2020</td>\n",
       "      <td>536186</td>\n",
       "      <td>525311.0</td>\n",
       "    </tr>\n",
       "    <tr>\n",
       "      <th>11</th>\n",
       "      <td>2021</td>\n",
       "      <td>876527</td>\n",
       "      <td>852440.0</td>\n",
       "    </tr>\n",
       "    <tr>\n",
       "      <th>1</th>\n",
       "      <td>2022</td>\n",
       "      <td>949098</td>\n",
       "      <td>880428.0</td>\n",
       "    </tr>\n",
       "    <tr>\n",
       "      <th>2</th>\n",
       "      <td>2023</td>\n",
       "      <td>1191506</td>\n",
       "      <td>1103353.0</td>\n",
       "    </tr>\n",
       "    <tr>\n",
       "      <th>3</th>\n",
       "      <td>2024</td>\n",
       "      <td>1460192</td>\n",
       "      <td>1350399.0</td>\n",
       "    </tr>\n",
       "    <tr>\n",
       "      <th>4</th>\n",
       "      <td>2025</td>\n",
       "      <td>1755156</td>\n",
       "      <td>1621566.0</td>\n",
       "    </tr>\n",
       "  </tbody>\n",
       "</table>\n",
       "</div>"
      ],
      "text/plain": [
       "    YEAR  Electric  Plug-in Hybrid\n",
       "0   2010       591             0.0\n",
       "1   2011      7179             0.0\n",
       "2   2012     13730          6225.0\n",
       "3   2013     21454         31079.0\n",
       "4   2014     31197         60370.0\n",
       "5   2015     46857         84115.0\n",
       "6   2016     54065         65011.0\n",
       "7   2017     83491         88334.0\n",
       "8   2018    132377        106502.0\n",
       "9   2019    242966        137632.0\n",
       "10  2020    536186        525311.0\n",
       "11  2021    876527        852440.0\n",
       "1   2022    949098        880428.0\n",
       "2   2023   1191506       1103353.0\n",
       "3   2024   1460192       1350399.0\n",
       "4   2025   1755156       1621566.0"
      ]
     },
     "execution_count": 109,
     "metadata": {},
     "output_type": "execute_result"
    }
   ],
   "source": [
    "final"
   ]
  },
  {
   "cell_type": "code",
   "execution_count": 114,
   "id": "8e7c4f89",
   "metadata": {},
   "outputs": [
    {
     "data": {
      "text/plain": [
       "90.22640889681385"
      ]
     },
     "execution_count": 114,
     "metadata": {},
     "output_type": "execute_result"
    }
   ],
   "source": [
    "original_value = 852440\n",
    "new_value = 1621566\n",
    "\n",
    "percentage_increase = ((new_value - original_value) / original_value) * 100\n",
    "percentage_increase"
   ]
  },
  {
   "cell_type": "code",
   "execution_count": null,
   "id": "11443ffb",
   "metadata": {},
   "outputs": [],
   "source": [
    "100.23981006860028\n",
    "90.22640889681385"
   ]
  }
 ],
 "metadata": {
  "kernelspec": {
   "display_name": "Python 3 (ipykernel)",
   "language": "python",
   "name": "python3"
  },
  "language_info": {
   "codemirror_mode": {
    "name": "ipython",
    "version": 3
   },
   "file_extension": ".py",
   "mimetype": "text/x-python",
   "name": "python",
   "nbconvert_exporter": "python",
   "pygments_lexer": "ipython3",
   "version": "3.10.9"
  }
 },
 "nbformat": 4,
 "nbformat_minor": 5
}
